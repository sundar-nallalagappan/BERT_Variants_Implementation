{
  "nbformat": 4,
  "nbformat_minor": 0,
  "metadata": {
    "colab": {
      "provenance": [],
      "authorship_tag": "ABX9TyOV/K0AH23UZQID8urmAMW2",
      "include_colab_link": true
    },
    "kernelspec": {
      "name": "python3",
      "display_name": "Python 3"
    },
    "language_info": {
      "name": "python"
    }
  },
  "cells": [
    {
      "cell_type": "markdown",
      "metadata": {
        "id": "view-in-github",
        "colab_type": "text"
      },
      "source": [
        "<a href=\"https://colab.research.google.com/github/sundar-nallalagappan/BERT_Variants_Implementation/blob/main/Bert_variants_Multiclass_Classificationipynb.ipynb\" target=\"_parent\"><img src=\"https://colab.research.google.com/assets/colab-badge.svg\" alt=\"Open In Colab\"/></a>"
      ]
    },
    {
      "cell_type": "code",
      "execution_count": 1,
      "metadata": {
        "colab": {
          "base_uri": "https://localhost:8080/"
        },
        "id": "FMQQ4G1jSW5i",
        "outputId": "55a8c337-08bf-4696-e802-80072ec911b3"
      },
      "outputs": [
        {
          "output_type": "stream",
          "name": "stdout",
          "text": [
            "      \n"
          ]
        }
      ],
      "source": [
        "print(\"      \")"
      ]
    },
    {
      "cell_type": "code",
      "source": [
        "!pip install -U \"tensorflow==2.8.*\"\n",
        "!pip install -U \"tensorflow-text==2.8.*\"\n",
        "import tensorflow as tf\n",
        "import tensorflow_text as text\n",
        "import tensorflow_hub as hub"
      ],
      "metadata": {
        "colab": {
          "base_uri": "https://localhost:8080/"
        },
        "id": "69HrgVVbSjhq",
        "outputId": "96691e30-284e-4dcd-d9c4-ed2f67611127"
      },
      "execution_count": null,
      "outputs": [
        {
          "output_type": "stream",
          "name": "stdout",
          "text": [
            "Looking in indexes: https://pypi.org/simple, https://us-python.pkg.dev/colab-wheels/public/simple/\n",
            "Requirement already satisfied: tensorflow==2.8.* in /usr/local/lib/python3.8/dist-packages (2.8.4)\n",
            "Requirement already satisfied: gast>=0.2.1 in /usr/local/lib/python3.8/dist-packages (from tensorflow==2.8.*) (0.4.0)\n",
            "Requirement already satisfied: google-pasta>=0.1.1 in /usr/local/lib/python3.8/dist-packages (from tensorflow==2.8.*) (0.2.0)\n",
            "Requirement already satisfied: termcolor>=1.1.0 in /usr/local/lib/python3.8/dist-packages (from tensorflow==2.8.*) (2.1.1)\n",
            "Requirement already satisfied: keras<2.9,>=2.8.0rc0 in /usr/local/lib/python3.8/dist-packages (from tensorflow==2.8.*) (2.8.0)\n",
            "Requirement already satisfied: tensorboard<2.9,>=2.8 in /usr/local/lib/python3.8/dist-packages (from tensorflow==2.8.*) (2.8.0)\n",
            "Requirement already satisfied: astunparse>=1.6.0 in /usr/local/lib/python3.8/dist-packages (from tensorflow==2.8.*) (1.6.3)\n",
            "Requirement already satisfied: typing-extensions>=3.6.6 in /usr/local/lib/python3.8/dist-packages (from tensorflow==2.8.*) (4.4.0)\n",
            "Requirement already satisfied: grpcio<2.0,>=1.24.3 in /usr/local/lib/python3.8/dist-packages (from tensorflow==2.8.*) (1.51.1)\n",
            "Requirement already satisfied: protobuf<3.20,>=3.9.2 in /usr/local/lib/python3.8/dist-packages (from tensorflow==2.8.*) (3.19.6)\n",
            "Requirement already satisfied: libclang>=9.0.1 in /usr/local/lib/python3.8/dist-packages (from tensorflow==2.8.*) (14.0.6)\n",
            "Requirement already satisfied: numpy>=1.20 in /usr/local/lib/python3.8/dist-packages (from tensorflow==2.8.*) (1.21.6)\n",
            "Requirement already satisfied: six>=1.12.0 in /usr/local/lib/python3.8/dist-packages (from tensorflow==2.8.*) (1.15.0)\n",
            "Requirement already satisfied: h5py>=2.9.0 in /usr/local/lib/python3.8/dist-packages (from tensorflow==2.8.*) (3.1.0)\n",
            "Requirement already satisfied: tensorflow-io-gcs-filesystem>=0.23.1 in /usr/local/lib/python3.8/dist-packages (from tensorflow==2.8.*) (0.28.0)\n",
            "Requirement already satisfied: flatbuffers>=1.12 in /usr/local/lib/python3.8/dist-packages (from tensorflow==2.8.*) (1.12)\n",
            "Requirement already satisfied: keras-preprocessing>=1.1.1 in /usr/local/lib/python3.8/dist-packages (from tensorflow==2.8.*) (1.1.2)\n",
            "Requirement already satisfied: tensorflow-estimator<2.9,>=2.8 in /usr/local/lib/python3.8/dist-packages (from tensorflow==2.8.*) (2.8.0)\n",
            "Requirement already satisfied: absl-py>=0.4.0 in /usr/local/lib/python3.8/dist-packages (from tensorflow==2.8.*) (1.3.0)\n",
            "Requirement already satisfied: setuptools in /usr/local/lib/python3.8/dist-packages (from tensorflow==2.8.*) (57.4.0)\n",
            "Requirement already satisfied: wrapt>=1.11.0 in /usr/local/lib/python3.8/dist-packages (from tensorflow==2.8.*) (1.14.1)\n",
            "Requirement already satisfied: opt-einsum>=2.3.2 in /usr/local/lib/python3.8/dist-packages (from tensorflow==2.8.*) (3.3.0)\n",
            "Requirement already satisfied: wheel<1.0,>=0.23.0 in /usr/local/lib/python3.8/dist-packages (from astunparse>=1.6.0->tensorflow==2.8.*) (0.38.4)\n",
            "Requirement already satisfied: tensorboard-plugin-wit>=1.6.0 in /usr/local/lib/python3.8/dist-packages (from tensorboard<2.9,>=2.8->tensorflow==2.8.*) (1.8.1)\n",
            "Requirement already satisfied: google-auth<3,>=1.6.3 in /usr/local/lib/python3.8/dist-packages (from tensorboard<2.9,>=2.8->tensorflow==2.8.*) (2.15.0)\n",
            "Requirement already satisfied: werkzeug>=0.11.15 in /usr/local/lib/python3.8/dist-packages (from tensorboard<2.9,>=2.8->tensorflow==2.8.*) (1.0.1)\n",
            "Requirement already satisfied: tensorboard-data-server<0.7.0,>=0.6.0 in /usr/local/lib/python3.8/dist-packages (from tensorboard<2.9,>=2.8->tensorflow==2.8.*) (0.6.1)\n",
            "Requirement already satisfied: markdown>=2.6.8 in /usr/local/lib/python3.8/dist-packages (from tensorboard<2.9,>=2.8->tensorflow==2.8.*) (3.4.1)\n",
            "Requirement already satisfied: requests<3,>=2.21.0 in /usr/local/lib/python3.8/dist-packages (from tensorboard<2.9,>=2.8->tensorflow==2.8.*) (2.23.0)\n",
            "Requirement already satisfied: google-auth-oauthlib<0.5,>=0.4.1 in /usr/local/lib/python3.8/dist-packages (from tensorboard<2.9,>=2.8->tensorflow==2.8.*) (0.4.6)\n",
            "Requirement already satisfied: rsa<5,>=3.1.4 in /usr/local/lib/python3.8/dist-packages (from google-auth<3,>=1.6.3->tensorboard<2.9,>=2.8->tensorflow==2.8.*) (4.9)\n",
            "Requirement already satisfied: pyasn1-modules>=0.2.1 in /usr/local/lib/python3.8/dist-packages (from google-auth<3,>=1.6.3->tensorboard<2.9,>=2.8->tensorflow==2.8.*) (0.2.8)\n",
            "Requirement already satisfied: cachetools<6.0,>=2.0.0 in /usr/local/lib/python3.8/dist-packages (from google-auth<3,>=1.6.3->tensorboard<2.9,>=2.8->tensorflow==2.8.*) (5.2.0)\n",
            "Requirement already satisfied: requests-oauthlib>=0.7.0 in /usr/local/lib/python3.8/dist-packages (from google-auth-oauthlib<0.5,>=0.4.1->tensorboard<2.9,>=2.8->tensorflow==2.8.*) (1.3.1)\n",
            "Requirement already satisfied: importlib-metadata>=4.4 in /usr/local/lib/python3.8/dist-packages (from markdown>=2.6.8->tensorboard<2.9,>=2.8->tensorflow==2.8.*) (5.1.0)\n",
            "Requirement already satisfied: zipp>=0.5 in /usr/local/lib/python3.8/dist-packages (from importlib-metadata>=4.4->markdown>=2.6.8->tensorboard<2.9,>=2.8->tensorflow==2.8.*) (3.11.0)\n",
            "Requirement already satisfied: pyasn1<0.5.0,>=0.4.6 in /usr/local/lib/python3.8/dist-packages (from pyasn1-modules>=0.2.1->google-auth<3,>=1.6.3->tensorboard<2.9,>=2.8->tensorflow==2.8.*) (0.4.8)\n",
            "Requirement already satisfied: chardet<4,>=3.0.2 in /usr/local/lib/python3.8/dist-packages (from requests<3,>=2.21.0->tensorboard<2.9,>=2.8->tensorflow==2.8.*) (3.0.4)\n",
            "Requirement already satisfied: certifi>=2017.4.17 in /usr/local/lib/python3.8/dist-packages (from requests<3,>=2.21.0->tensorboard<2.9,>=2.8->tensorflow==2.8.*) (2022.12.7)\n",
            "Requirement already satisfied: urllib3!=1.25.0,!=1.25.1,<1.26,>=1.21.1 in /usr/local/lib/python3.8/dist-packages (from requests<3,>=2.21.0->tensorboard<2.9,>=2.8->tensorflow==2.8.*) (1.24.3)\n",
            "Requirement already satisfied: idna<3,>=2.5 in /usr/local/lib/python3.8/dist-packages (from requests<3,>=2.21.0->tensorboard<2.9,>=2.8->tensorflow==2.8.*) (2.10)\n",
            "Requirement already satisfied: oauthlib>=3.0.0 in /usr/local/lib/python3.8/dist-packages (from requests-oauthlib>=0.7.0->google-auth-oauthlib<0.5,>=0.4.1->tensorboard<2.9,>=2.8->tensorflow==2.8.*) (3.2.2)\n",
            "Looking in indexes: https://pypi.org/simple, https://us-python.pkg.dev/colab-wheels/public/simple/\n",
            "Requirement already satisfied: tensorflow-text==2.8.* in /usr/local/lib/python3.8/dist-packages (2.8.2)\n",
            "Requirement already satisfied: tensorflow<2.9,>=2.8.0 in /usr/local/lib/python3.8/dist-packages (from tensorflow-text==2.8.*) (2.8.4)\n",
            "Requirement already satisfied: tensorflow-hub>=0.8.0 in /usr/local/lib/python3.8/dist-packages (from tensorflow-text==2.8.*) (0.12.0)\n",
            "Requirement already satisfied: astunparse>=1.6.0 in /usr/local/lib/python3.8/dist-packages (from tensorflow<2.9,>=2.8.0->tensorflow-text==2.8.*) (1.6.3)\n",
            "Requirement already satisfied: typing-extensions>=3.6.6 in /usr/local/lib/python3.8/dist-packages (from tensorflow<2.9,>=2.8.0->tensorflow-text==2.8.*) (4.4.0)\n",
            "Requirement already satisfied: flatbuffers>=1.12 in /usr/local/lib/python3.8/dist-packages (from tensorflow<2.9,>=2.8.0->tensorflow-text==2.8.*) (1.12)\n",
            "Requirement already satisfied: termcolor>=1.1.0 in /usr/local/lib/python3.8/dist-packages (from tensorflow<2.9,>=2.8.0->tensorflow-text==2.8.*) (2.1.1)\n",
            "Requirement already satisfied: six>=1.12.0 in /usr/local/lib/python3.8/dist-packages (from tensorflow<2.9,>=2.8.0->tensorflow-text==2.8.*) (1.15.0)\n",
            "Requirement already satisfied: absl-py>=0.4.0 in /usr/local/lib/python3.8/dist-packages (from tensorflow<2.9,>=2.8.0->tensorflow-text==2.8.*) (1.3.0)\n",
            "Requirement already satisfied: opt-einsum>=2.3.2 in /usr/local/lib/python3.8/dist-packages (from tensorflow<2.9,>=2.8.0->tensorflow-text==2.8.*) (3.3.0)\n",
            "Requirement already satisfied: keras-preprocessing>=1.1.1 in /usr/local/lib/python3.8/dist-packages (from tensorflow<2.9,>=2.8.0->tensorflow-text==2.8.*) (1.1.2)\n",
            "Requirement already satisfied: tensorflow-estimator<2.9,>=2.8 in /usr/local/lib/python3.8/dist-packages (from tensorflow<2.9,>=2.8.0->tensorflow-text==2.8.*) (2.8.0)\n",
            "Requirement already satisfied: google-pasta>=0.1.1 in /usr/local/lib/python3.8/dist-packages (from tensorflow<2.9,>=2.8.0->tensorflow-text==2.8.*) (0.2.0)\n",
            "Requirement already satisfied: setuptools in /usr/local/lib/python3.8/dist-packages (from tensorflow<2.9,>=2.8.0->tensorflow-text==2.8.*) (57.4.0)\n",
            "Requirement already satisfied: numpy>=1.20 in /usr/local/lib/python3.8/dist-packages (from tensorflow<2.9,>=2.8.0->tensorflow-text==2.8.*) (1.21.6)\n",
            "Requirement already satisfied: grpcio<2.0,>=1.24.3 in /usr/local/lib/python3.8/dist-packages (from tensorflow<2.9,>=2.8.0->tensorflow-text==2.8.*) (1.51.1)\n",
            "Requirement already satisfied: wrapt>=1.11.0 in /usr/local/lib/python3.8/dist-packages (from tensorflow<2.9,>=2.8.0->tensorflow-text==2.8.*) (1.14.1)\n",
            "Requirement already satisfied: tensorflow-io-gcs-filesystem>=0.23.1 in /usr/local/lib/python3.8/dist-packages (from tensorflow<2.9,>=2.8.0->tensorflow-text==2.8.*) (0.28.0)\n",
            "Requirement already satisfied: protobuf<3.20,>=3.9.2 in /usr/local/lib/python3.8/dist-packages (from tensorflow<2.9,>=2.8.0->tensorflow-text==2.8.*) (3.19.6)\n",
            "Requirement already satisfied: gast>=0.2.1 in /usr/local/lib/python3.8/dist-packages (from tensorflow<2.9,>=2.8.0->tensorflow-text==2.8.*) (0.4.0)\n",
            "Requirement already satisfied: keras<2.9,>=2.8.0rc0 in /usr/local/lib/python3.8/dist-packages (from tensorflow<2.9,>=2.8.0->tensorflow-text==2.8.*) (2.8.0)\n",
            "Requirement already satisfied: h5py>=2.9.0 in /usr/local/lib/python3.8/dist-packages (from tensorflow<2.9,>=2.8.0->tensorflow-text==2.8.*) (3.1.0)\n",
            "Requirement already satisfied: libclang>=9.0.1 in /usr/local/lib/python3.8/dist-packages (from tensorflow<2.9,>=2.8.0->tensorflow-text==2.8.*) (14.0.6)\n",
            "Requirement already satisfied: tensorboard<2.9,>=2.8 in /usr/local/lib/python3.8/dist-packages (from tensorflow<2.9,>=2.8.0->tensorflow-text==2.8.*) (2.8.0)\n",
            "Requirement already satisfied: wheel<1.0,>=0.23.0 in /usr/local/lib/python3.8/dist-packages (from astunparse>=1.6.0->tensorflow<2.9,>=2.8.0->tensorflow-text==2.8.*) (0.38.4)\n",
            "Requirement already satisfied: markdown>=2.6.8 in /usr/local/lib/python3.8/dist-packages (from tensorboard<2.9,>=2.8->tensorflow<2.9,>=2.8.0->tensorflow-text==2.8.*) (3.4.1)\n",
            "Requirement already satisfied: tensorboard-plugin-wit>=1.6.0 in /usr/local/lib/python3.8/dist-packages (from tensorboard<2.9,>=2.8->tensorflow<2.9,>=2.8.0->tensorflow-text==2.8.*) (1.8.1)\n",
            "Requirement already satisfied: werkzeug>=0.11.15 in /usr/local/lib/python3.8/dist-packages (from tensorboard<2.9,>=2.8->tensorflow<2.9,>=2.8.0->tensorflow-text==2.8.*) (1.0.1)\n",
            "Requirement already satisfied: tensorboard-data-server<0.7.0,>=0.6.0 in /usr/local/lib/python3.8/dist-packages (from tensorboard<2.9,>=2.8->tensorflow<2.9,>=2.8.0->tensorflow-text==2.8.*) (0.6.1)\n",
            "Requirement already satisfied: requests<3,>=2.21.0 in /usr/local/lib/python3.8/dist-packages (from tensorboard<2.9,>=2.8->tensorflow<2.9,>=2.8.0->tensorflow-text==2.8.*) (2.23.0)\n",
            "Requirement already satisfied: google-auth<3,>=1.6.3 in /usr/local/lib/python3.8/dist-packages (from tensorboard<2.9,>=2.8->tensorflow<2.9,>=2.8.0->tensorflow-text==2.8.*) (2.15.0)\n",
            "Requirement already satisfied: google-auth-oauthlib<0.5,>=0.4.1 in /usr/local/lib/python3.8/dist-packages (from tensorboard<2.9,>=2.8->tensorflow<2.9,>=2.8.0->tensorflow-text==2.8.*) (0.4.6)\n",
            "Requirement already satisfied: cachetools<6.0,>=2.0.0 in /usr/local/lib/python3.8/dist-packages (from google-auth<3,>=1.6.3->tensorboard<2.9,>=2.8->tensorflow<2.9,>=2.8.0->tensorflow-text==2.8.*) (5.2.0)\n",
            "Requirement already satisfied: rsa<5,>=3.1.4 in /usr/local/lib/python3.8/dist-packages (from google-auth<3,>=1.6.3->tensorboard<2.9,>=2.8->tensorflow<2.9,>=2.8.0->tensorflow-text==2.8.*) (4.9)\n",
            "Requirement already satisfied: pyasn1-modules>=0.2.1 in /usr/local/lib/python3.8/dist-packages (from google-auth<3,>=1.6.3->tensorboard<2.9,>=2.8->tensorflow<2.9,>=2.8.0->tensorflow-text==2.8.*) (0.2.8)\n",
            "Requirement already satisfied: requests-oauthlib>=0.7.0 in /usr/local/lib/python3.8/dist-packages (from google-auth-oauthlib<0.5,>=0.4.1->tensorboard<2.9,>=2.8->tensorflow<2.9,>=2.8.0->tensorflow-text==2.8.*) (1.3.1)\n",
            "Requirement already satisfied: importlib-metadata>=4.4 in /usr/local/lib/python3.8/dist-packages (from markdown>=2.6.8->tensorboard<2.9,>=2.8->tensorflow<2.9,>=2.8.0->tensorflow-text==2.8.*) (5.1.0)\n",
            "Requirement already satisfied: zipp>=0.5 in /usr/local/lib/python3.8/dist-packages (from importlib-metadata>=4.4->markdown>=2.6.8->tensorboard<2.9,>=2.8->tensorflow<2.9,>=2.8.0->tensorflow-text==2.8.*) (3.11.0)\n",
            "Requirement already satisfied: pyasn1<0.5.0,>=0.4.6 in /usr/local/lib/python3.8/dist-packages (from pyasn1-modules>=0.2.1->google-auth<3,>=1.6.3->tensorboard<2.9,>=2.8->tensorflow<2.9,>=2.8.0->tensorflow-text==2.8.*) (0.4.8)\n",
            "Requirement already satisfied: certifi>=2017.4.17 in /usr/local/lib/python3.8/dist-packages (from requests<3,>=2.21.0->tensorboard<2.9,>=2.8->tensorflow<2.9,>=2.8.0->tensorflow-text==2.8.*) (2022.12.7)\n",
            "Requirement already satisfied: idna<3,>=2.5 in /usr/local/lib/python3.8/dist-packages (from requests<3,>=2.21.0->tensorboard<2.9,>=2.8->tensorflow<2.9,>=2.8.0->tensorflow-text==2.8.*) (2.10)\n",
            "Requirement already satisfied: urllib3!=1.25.0,!=1.25.1,<1.26,>=1.21.1 in /usr/local/lib/python3.8/dist-packages (from requests<3,>=2.21.0->tensorboard<2.9,>=2.8->tensorflow<2.9,>=2.8.0->tensorflow-text==2.8.*) (1.24.3)\n",
            "Requirement already satisfied: chardet<4,>=3.0.2 in /usr/local/lib/python3.8/dist-packages (from requests<3,>=2.21.0->tensorboard<2.9,>=2.8->tensorflow<2.9,>=2.8.0->tensorflow-text==2.8.*) (3.0.4)\n",
            "Requirement already satisfied: oauthlib>=3.0.0 in /usr/local/lib/python3.8/dist-packages (from requests-oauthlib>=0.7.0->google-auth-oauthlib<0.5,>=0.4.1->tensorboard<2.9,>=2.8->tensorflow<2.9,>=2.8.0->tensorflow-text==2.8.*) (3.2.2)\n"
          ]
        }
      ]
    },
    {
      "cell_type": "code",
      "source": [
        "!pip install transformers"
      ],
      "metadata": {
        "colab": {
          "base_uri": "https://localhost:8080/"
        },
        "id": "2cNCpxPzbn9Y",
        "outputId": "36f9e506-7b21-4b74-fafe-4776029cec9c"
      },
      "execution_count": null,
      "outputs": [
        {
          "output_type": "stream",
          "name": "stdout",
          "text": [
            "Looking in indexes: https://pypi.org/simple, https://us-python.pkg.dev/colab-wheels/public/simple/\n",
            "Requirement already satisfied: transformers in /usr/local/lib/python3.8/dist-packages (4.25.1)\n",
            "Requirement already satisfied: regex!=2019.12.17 in /usr/local/lib/python3.8/dist-packages (from transformers) (2022.6.2)\n",
            "Requirement already satisfied: requests in /usr/local/lib/python3.8/dist-packages (from transformers) (2.23.0)\n",
            "Requirement already satisfied: numpy>=1.17 in /usr/local/lib/python3.8/dist-packages (from transformers) (1.21.6)\n",
            "Requirement already satisfied: huggingface-hub<1.0,>=0.10.0 in /usr/local/lib/python3.8/dist-packages (from transformers) (0.11.1)\n",
            "Requirement already satisfied: tokenizers!=0.11.3,<0.14,>=0.11.1 in /usr/local/lib/python3.8/dist-packages (from transformers) (0.13.2)\n",
            "Requirement already satisfied: filelock in /usr/local/lib/python3.8/dist-packages (from transformers) (3.8.2)\n",
            "Requirement already satisfied: pyyaml>=5.1 in /usr/local/lib/python3.8/dist-packages (from transformers) (6.0)\n",
            "Requirement already satisfied: tqdm>=4.27 in /usr/local/lib/python3.8/dist-packages (from transformers) (4.64.1)\n",
            "Requirement already satisfied: packaging>=20.0 in /usr/local/lib/python3.8/dist-packages (from transformers) (21.3)\n",
            "Requirement already satisfied: typing-extensions>=3.7.4.3 in /usr/local/lib/python3.8/dist-packages (from huggingface-hub<1.0,>=0.10.0->transformers) (4.4.0)\n",
            "Requirement already satisfied: pyparsing!=3.0.5,>=2.0.2 in /usr/local/lib/python3.8/dist-packages (from packaging>=20.0->transformers) (3.0.9)\n",
            "Requirement already satisfied: certifi>=2017.4.17 in /usr/local/lib/python3.8/dist-packages (from requests->transformers) (2022.12.7)\n",
            "Requirement already satisfied: urllib3!=1.25.0,!=1.25.1,<1.26,>=1.21.1 in /usr/local/lib/python3.8/dist-packages (from requests->transformers) (1.24.3)\n",
            "Requirement already satisfied: chardet<4,>=3.0.2 in /usr/local/lib/python3.8/dist-packages (from requests->transformers) (3.0.4)\n",
            "Requirement already satisfied: idna<3,>=2.5 in /usr/local/lib/python3.8/dist-packages (from requests->transformers) (2.10)\n"
          ]
        }
      ]
    },
    {
      "cell_type": "code",
      "source": [
        "import pandas as pd\n",
        "import numpy as np\n",
        "from sklearn.model_selection import train_test_split"
      ],
      "metadata": {
        "id": "r0PssSxOTwAA"
      },
      "execution_count": null,
      "outputs": []
    },
    {
      "cell_type": "code",
      "source": [
        "from google.colab import files\n",
        "uploaded = files.upload()"
      ],
      "metadata": {
        "colab": {
          "base_uri": "https://localhost:8080/",
          "height": 73
        },
        "id": "zmHoeuWOTyMg",
        "outputId": "5cc801cb-3c44-4e9a-b991-067c4784343f"
      },
      "execution_count": null,
      "outputs": [
        {
          "output_type": "display_data",
          "data": {
            "text/plain": [
              "<IPython.core.display.HTML object>"
            ],
            "text/html": [
              "\n",
              "     <input type=\"file\" id=\"files-52c60046-9e64-4ea4-88e8-33141e2b2d4b\" name=\"files[]\" multiple disabled\n",
              "        style=\"border:none\" />\n",
              "     <output id=\"result-52c60046-9e64-4ea4-88e8-33141e2b2d4b\">\n",
              "      Upload widget is only available when the cell has been executed in the\n",
              "      current browser session. Please rerun this cell to enable.\n",
              "      </output>\n",
              "      <script>// Copyright 2017 Google LLC\n",
              "//\n",
              "// Licensed under the Apache License, Version 2.0 (the \"License\");\n",
              "// you may not use this file except in compliance with the License.\n",
              "// You may obtain a copy of the License at\n",
              "//\n",
              "//      http://www.apache.org/licenses/LICENSE-2.0\n",
              "//\n",
              "// Unless required by applicable law or agreed to in writing, software\n",
              "// distributed under the License is distributed on an \"AS IS\" BASIS,\n",
              "// WITHOUT WARRANTIES OR CONDITIONS OF ANY KIND, either express or implied.\n",
              "// See the License for the specific language governing permissions and\n",
              "// limitations under the License.\n",
              "\n",
              "/**\n",
              " * @fileoverview Helpers for google.colab Python module.\n",
              " */\n",
              "(function(scope) {\n",
              "function span(text, styleAttributes = {}) {\n",
              "  const element = document.createElement('span');\n",
              "  element.textContent = text;\n",
              "  for (const key of Object.keys(styleAttributes)) {\n",
              "    element.style[key] = styleAttributes[key];\n",
              "  }\n",
              "  return element;\n",
              "}\n",
              "\n",
              "// Max number of bytes which will be uploaded at a time.\n",
              "const MAX_PAYLOAD_SIZE = 100 * 1024;\n",
              "\n",
              "function _uploadFiles(inputId, outputId) {\n",
              "  const steps = uploadFilesStep(inputId, outputId);\n",
              "  const outputElement = document.getElementById(outputId);\n",
              "  // Cache steps on the outputElement to make it available for the next call\n",
              "  // to uploadFilesContinue from Python.\n",
              "  outputElement.steps = steps;\n",
              "\n",
              "  return _uploadFilesContinue(outputId);\n",
              "}\n",
              "\n",
              "// This is roughly an async generator (not supported in the browser yet),\n",
              "// where there are multiple asynchronous steps and the Python side is going\n",
              "// to poll for completion of each step.\n",
              "// This uses a Promise to block the python side on completion of each step,\n",
              "// then passes the result of the previous step as the input to the next step.\n",
              "function _uploadFilesContinue(outputId) {\n",
              "  const outputElement = document.getElementById(outputId);\n",
              "  const steps = outputElement.steps;\n",
              "\n",
              "  const next = steps.next(outputElement.lastPromiseValue);\n",
              "  return Promise.resolve(next.value.promise).then((value) => {\n",
              "    // Cache the last promise value to make it available to the next\n",
              "    // step of the generator.\n",
              "    outputElement.lastPromiseValue = value;\n",
              "    return next.value.response;\n",
              "  });\n",
              "}\n",
              "\n",
              "/**\n",
              " * Generator function which is called between each async step of the upload\n",
              " * process.\n",
              " * @param {string} inputId Element ID of the input file picker element.\n",
              " * @param {string} outputId Element ID of the output display.\n",
              " * @return {!Iterable<!Object>} Iterable of next steps.\n",
              " */\n",
              "function* uploadFilesStep(inputId, outputId) {\n",
              "  const inputElement = document.getElementById(inputId);\n",
              "  inputElement.disabled = false;\n",
              "\n",
              "  const outputElement = document.getElementById(outputId);\n",
              "  outputElement.innerHTML = '';\n",
              "\n",
              "  const pickedPromise = new Promise((resolve) => {\n",
              "    inputElement.addEventListener('change', (e) => {\n",
              "      resolve(e.target.files);\n",
              "    });\n",
              "  });\n",
              "\n",
              "  const cancel = document.createElement('button');\n",
              "  inputElement.parentElement.appendChild(cancel);\n",
              "  cancel.textContent = 'Cancel upload';\n",
              "  const cancelPromise = new Promise((resolve) => {\n",
              "    cancel.onclick = () => {\n",
              "      resolve(null);\n",
              "    };\n",
              "  });\n",
              "\n",
              "  // Wait for the user to pick the files.\n",
              "  const files = yield {\n",
              "    promise: Promise.race([pickedPromise, cancelPromise]),\n",
              "    response: {\n",
              "      action: 'starting',\n",
              "    }\n",
              "  };\n",
              "\n",
              "  cancel.remove();\n",
              "\n",
              "  // Disable the input element since further picks are not allowed.\n",
              "  inputElement.disabled = true;\n",
              "\n",
              "  if (!files) {\n",
              "    return {\n",
              "      response: {\n",
              "        action: 'complete',\n",
              "      }\n",
              "    };\n",
              "  }\n",
              "\n",
              "  for (const file of files) {\n",
              "    const li = document.createElement('li');\n",
              "    li.append(span(file.name, {fontWeight: 'bold'}));\n",
              "    li.append(span(\n",
              "        `(${file.type || 'n/a'}) - ${file.size} bytes, ` +\n",
              "        `last modified: ${\n",
              "            file.lastModifiedDate ? file.lastModifiedDate.toLocaleDateString() :\n",
              "                                    'n/a'} - `));\n",
              "    const percent = span('0% done');\n",
              "    li.appendChild(percent);\n",
              "\n",
              "    outputElement.appendChild(li);\n",
              "\n",
              "    const fileDataPromise = new Promise((resolve) => {\n",
              "      const reader = new FileReader();\n",
              "      reader.onload = (e) => {\n",
              "        resolve(e.target.result);\n",
              "      };\n",
              "      reader.readAsArrayBuffer(file);\n",
              "    });\n",
              "    // Wait for the data to be ready.\n",
              "    let fileData = yield {\n",
              "      promise: fileDataPromise,\n",
              "      response: {\n",
              "        action: 'continue',\n",
              "      }\n",
              "    };\n",
              "\n",
              "    // Use a chunked sending to avoid message size limits. See b/62115660.\n",
              "    let position = 0;\n",
              "    do {\n",
              "      const length = Math.min(fileData.byteLength - position, MAX_PAYLOAD_SIZE);\n",
              "      const chunk = new Uint8Array(fileData, position, length);\n",
              "      position += length;\n",
              "\n",
              "      const base64 = btoa(String.fromCharCode.apply(null, chunk));\n",
              "      yield {\n",
              "        response: {\n",
              "          action: 'append',\n",
              "          file: file.name,\n",
              "          data: base64,\n",
              "        },\n",
              "      };\n",
              "\n",
              "      let percentDone = fileData.byteLength === 0 ?\n",
              "          100 :\n",
              "          Math.round((position / fileData.byteLength) * 100);\n",
              "      percent.textContent = `${percentDone}% done`;\n",
              "\n",
              "    } while (position < fileData.byteLength);\n",
              "  }\n",
              "\n",
              "  // All done.\n",
              "  yield {\n",
              "    response: {\n",
              "      action: 'complete',\n",
              "    }\n",
              "  };\n",
              "}\n",
              "\n",
              "scope.google = scope.google || {};\n",
              "scope.google.colab = scope.google.colab || {};\n",
              "scope.google.colab._files = {\n",
              "  _uploadFiles,\n",
              "  _uploadFilesContinue,\n",
              "};\n",
              "})(self);\n",
              "</script> "
            ]
          },
          "metadata": {}
        },
        {
          "output_type": "stream",
          "name": "stdout",
          "text": [
            "Saving train.csv to train (1).csv\n"
          ]
        }
      ]
    },
    {
      "cell_type": "code",
      "source": [
        "cols = ['Text', 'Mask', 'category']\n",
        "df = pd.read_csv('train.csv', header=None, names=cols)\n",
        "df"
      ],
      "metadata": {
        "colab": {
          "base_uri": "https://localhost:8080/",
          "height": 424
        },
        "id": "kaiB6Pixb0Q4",
        "outputId": "c62d1184-ad6d-49d2-a11f-f8995dae5df9"
      },
      "execution_count": null,
      "outputs": [
        {
          "output_type": "execute_result",
          "data": {
            "text/plain": [
              "                                                   Text  \\\n",
              "0     BOS Sir I created a new env with python 3.7 bu...   \n",
              "1            BOS above problem how will it solve ?? EOS   \n",
              "2                     BOS Hello sir is there anyone EOS   \n",
              "3     BOS i think canvas login problem was due to br...   \n",
              "4     BOS Please provide me with the link to python ...   \n",
              "...                                                 ...   \n",
              "3509  BOS it is not one to one resume but some advic...   \n",
              "3510                               BOS hi good noon EOS   \n",
              "3511                 BOS now what will year contain EOS   \n",
              "3512  BOS I have extracted it but didn&apos;t found ...   \n",
              "3513           BOS file name or extension path name EOS   \n",
              "\n",
              "                                                   Mask              category  \n",
              "0     O O O O O O O O O O O O O O O O O O O O O O O ...             need_help  \n",
              "1                                     O O O O O O O O O             need_help  \n",
              "2                                         O O O O O O O             Greetings  \n",
              "3                   O O O O O O O O O O O O O O O O O O                 great  \n",
              "4                                 O O O O O O O O O O O  community_class_link  \n",
              "...                                                 ...                   ...  \n",
              "3509                    O O O O O O O O O O O O O O O O             need_help  \n",
              "3510                                          O O O O O             Greetings  \n",
              "3511                                      O O O O O O O            code_error  \n",
              "3512                                O O O O O O O O O O             need_help  \n",
              "3513                                    O O O O O O O O             need_help  \n",
              "\n",
              "[3514 rows x 3 columns]"
            ],
            "text/html": [
              "\n",
              "  <div id=\"df-e66f7202-4e45-4283-b725-cda419988913\">\n",
              "    <div class=\"colab-df-container\">\n",
              "      <div>\n",
              "<style scoped>\n",
              "    .dataframe tbody tr th:only-of-type {\n",
              "        vertical-align: middle;\n",
              "    }\n",
              "\n",
              "    .dataframe tbody tr th {\n",
              "        vertical-align: top;\n",
              "    }\n",
              "\n",
              "    .dataframe thead th {\n",
              "        text-align: right;\n",
              "    }\n",
              "</style>\n",
              "<table border=\"1\" class=\"dataframe\">\n",
              "  <thead>\n",
              "    <tr style=\"text-align: right;\">\n",
              "      <th></th>\n",
              "      <th>Text</th>\n",
              "      <th>Mask</th>\n",
              "      <th>category</th>\n",
              "    </tr>\n",
              "  </thead>\n",
              "  <tbody>\n",
              "    <tr>\n",
              "      <th>0</th>\n",
              "      <td>BOS Sir I created a new env with python 3.7 bu...</td>\n",
              "      <td>O O O O O O O O O O O O O O O O O O O O O O O ...</td>\n",
              "      <td>need_help</td>\n",
              "    </tr>\n",
              "    <tr>\n",
              "      <th>1</th>\n",
              "      <td>BOS above problem how will it solve ?? EOS</td>\n",
              "      <td>O O O O O O O O O</td>\n",
              "      <td>need_help</td>\n",
              "    </tr>\n",
              "    <tr>\n",
              "      <th>2</th>\n",
              "      <td>BOS Hello sir is there anyone EOS</td>\n",
              "      <td>O O O O O O O</td>\n",
              "      <td>Greetings</td>\n",
              "    </tr>\n",
              "    <tr>\n",
              "      <th>3</th>\n",
              "      <td>BOS i think canvas login problem was due to br...</td>\n",
              "      <td>O O O O O O O O O O O O O O O O O O</td>\n",
              "      <td>great</td>\n",
              "    </tr>\n",
              "    <tr>\n",
              "      <th>4</th>\n",
              "      <td>BOS Please provide me with the link to python ...</td>\n",
              "      <td>O O O O O O O O O O O</td>\n",
              "      <td>community_class_link</td>\n",
              "    </tr>\n",
              "    <tr>\n",
              "      <th>...</th>\n",
              "      <td>...</td>\n",
              "      <td>...</td>\n",
              "      <td>...</td>\n",
              "    </tr>\n",
              "    <tr>\n",
              "      <th>3509</th>\n",
              "      <td>BOS it is not one to one resume but some advic...</td>\n",
              "      <td>O O O O O O O O O O O O O O O O</td>\n",
              "      <td>need_help</td>\n",
              "    </tr>\n",
              "    <tr>\n",
              "      <th>3510</th>\n",
              "      <td>BOS hi good noon EOS</td>\n",
              "      <td>O O O O O</td>\n",
              "      <td>Greetings</td>\n",
              "    </tr>\n",
              "    <tr>\n",
              "      <th>3511</th>\n",
              "      <td>BOS now what will year contain EOS</td>\n",
              "      <td>O O O O O O O</td>\n",
              "      <td>code_error</td>\n",
              "    </tr>\n",
              "    <tr>\n",
              "      <th>3512</th>\n",
              "      <td>BOS I have extracted it but didn&amp;apos;t found ...</td>\n",
              "      <td>O O O O O O O O O O</td>\n",
              "      <td>need_help</td>\n",
              "    </tr>\n",
              "    <tr>\n",
              "      <th>3513</th>\n",
              "      <td>BOS file name or extension path name EOS</td>\n",
              "      <td>O O O O O O O O</td>\n",
              "      <td>need_help</td>\n",
              "    </tr>\n",
              "  </tbody>\n",
              "</table>\n",
              "<p>3514 rows × 3 columns</p>\n",
              "</div>\n",
              "      <button class=\"colab-df-convert\" onclick=\"convertToInteractive('df-e66f7202-4e45-4283-b725-cda419988913')\"\n",
              "              title=\"Convert this dataframe to an interactive table.\"\n",
              "              style=\"display:none;\">\n",
              "        \n",
              "  <svg xmlns=\"http://www.w3.org/2000/svg\" height=\"24px\"viewBox=\"0 0 24 24\"\n",
              "       width=\"24px\">\n",
              "    <path d=\"M0 0h24v24H0V0z\" fill=\"none\"/>\n",
              "    <path d=\"M18.56 5.44l.94 2.06.94-2.06 2.06-.94-2.06-.94-.94-2.06-.94 2.06-2.06.94zm-11 1L8.5 8.5l.94-2.06 2.06-.94-2.06-.94L8.5 2.5l-.94 2.06-2.06.94zm10 10l.94 2.06.94-2.06 2.06-.94-2.06-.94-.94-2.06-.94 2.06-2.06.94z\"/><path d=\"M17.41 7.96l-1.37-1.37c-.4-.4-.92-.59-1.43-.59-.52 0-1.04.2-1.43.59L10.3 9.45l-7.72 7.72c-.78.78-.78 2.05 0 2.83L4 21.41c.39.39.9.59 1.41.59.51 0 1.02-.2 1.41-.59l7.78-7.78 2.81-2.81c.8-.78.8-2.07 0-2.86zM5.41 20L4 18.59l7.72-7.72 1.47 1.35L5.41 20z\"/>\n",
              "  </svg>\n",
              "      </button>\n",
              "      \n",
              "  <style>\n",
              "    .colab-df-container {\n",
              "      display:flex;\n",
              "      flex-wrap:wrap;\n",
              "      gap: 12px;\n",
              "    }\n",
              "\n",
              "    .colab-df-convert {\n",
              "      background-color: #E8F0FE;\n",
              "      border: none;\n",
              "      border-radius: 50%;\n",
              "      cursor: pointer;\n",
              "      display: none;\n",
              "      fill: #1967D2;\n",
              "      height: 32px;\n",
              "      padding: 0 0 0 0;\n",
              "      width: 32px;\n",
              "    }\n",
              "\n",
              "    .colab-df-convert:hover {\n",
              "      background-color: #E2EBFA;\n",
              "      box-shadow: 0px 1px 2px rgba(60, 64, 67, 0.3), 0px 1px 3px 1px rgba(60, 64, 67, 0.15);\n",
              "      fill: #174EA6;\n",
              "    }\n",
              "\n",
              "    [theme=dark] .colab-df-convert {\n",
              "      background-color: #3B4455;\n",
              "      fill: #D2E3FC;\n",
              "    }\n",
              "\n",
              "    [theme=dark] .colab-df-convert:hover {\n",
              "      background-color: #434B5C;\n",
              "      box-shadow: 0px 1px 3px 1px rgba(0, 0, 0, 0.15);\n",
              "      filter: drop-shadow(0px 1px 2px rgba(0, 0, 0, 0.3));\n",
              "      fill: #FFFFFF;\n",
              "    }\n",
              "  </style>\n",
              "\n",
              "      <script>\n",
              "        const buttonEl =\n",
              "          document.querySelector('#df-e66f7202-4e45-4283-b725-cda419988913 button.colab-df-convert');\n",
              "        buttonEl.style.display =\n",
              "          google.colab.kernel.accessAllowed ? 'block' : 'none';\n",
              "\n",
              "        async function convertToInteractive(key) {\n",
              "          const element = document.querySelector('#df-e66f7202-4e45-4283-b725-cda419988913');\n",
              "          const dataTable =\n",
              "            await google.colab.kernel.invokeFunction('convertToInteractive',\n",
              "                                                     [key], {});\n",
              "          if (!dataTable) return;\n",
              "\n",
              "          const docLinkHtml = 'Like what you see? Visit the ' +\n",
              "            '<a target=\"_blank\" href=https://colab.research.google.com/notebooks/data_table.ipynb>data table notebook</a>'\n",
              "            + ' to learn more about interactive tables.';\n",
              "          element.innerHTML = '';\n",
              "          dataTable['output_type'] = 'display_data';\n",
              "          await google.colab.output.renderOutput(dataTable, element);\n",
              "          const docLink = document.createElement('div');\n",
              "          docLink.innerHTML = docLinkHtml;\n",
              "          element.appendChild(docLink);\n",
              "        }\n",
              "      </script>\n",
              "    </div>\n",
              "  </div>\n",
              "  "
            ]
          },
          "metadata": {},
          "execution_count": 43
        }
      ]
    },
    {
      "cell_type": "code",
      "source": [
        "df['encoded_cat'] = df['category'].astype('category').cat.codes\n",
        "df.drop('Mask', axis=1, inplace=True)\n",
        "df"
      ],
      "metadata": {
        "colab": {
          "base_uri": "https://localhost:8080/",
          "height": 424
        },
        "id": "igYJ1OOaiH-T",
        "outputId": "b119a43e-7e76-40c9-e9dd-317f2ed92b61"
      },
      "execution_count": null,
      "outputs": [
        {
          "output_type": "execute_result",
          "data": {
            "text/plain": [
              "                                                   Text              category  \\\n",
              "0     BOS Sir I created a new env with python 3.7 bu...             need_help   \n",
              "1            BOS above problem how will it solve ?? EOS             need_help   \n",
              "2                     BOS Hello sir is there anyone EOS             Greetings   \n",
              "3     BOS i think canvas login problem was due to br...                 great   \n",
              "4     BOS Please provide me with the link to python ...  community_class_link   \n",
              "...                                                 ...                   ...   \n",
              "3509  BOS it is not one to one resume but some advic...             need_help   \n",
              "3510                               BOS hi good noon EOS             Greetings   \n",
              "3511                 BOS now what will year contain EOS            code_error   \n",
              "3512  BOS I have extracted it but didn&apos;t found ...             need_help   \n",
              "3513           BOS file name or extension path name EOS             need_help   \n",
              "\n",
              "      encoded_cat  \n",
              "0              93  \n",
              "1              93  \n",
              "2               6  \n",
              "3              77  \n",
              "4              55  \n",
              "...           ...  \n",
              "3509           93  \n",
              "3510            6  \n",
              "3511           52  \n",
              "3512           93  \n",
              "3513           93  \n",
              "\n",
              "[3514 rows x 3 columns]"
            ],
            "text/html": [
              "\n",
              "  <div id=\"df-d50f59bf-27e9-4943-ad98-dfc178380100\">\n",
              "    <div class=\"colab-df-container\">\n",
              "      <div>\n",
              "<style scoped>\n",
              "    .dataframe tbody tr th:only-of-type {\n",
              "        vertical-align: middle;\n",
              "    }\n",
              "\n",
              "    .dataframe tbody tr th {\n",
              "        vertical-align: top;\n",
              "    }\n",
              "\n",
              "    .dataframe thead th {\n",
              "        text-align: right;\n",
              "    }\n",
              "</style>\n",
              "<table border=\"1\" class=\"dataframe\">\n",
              "  <thead>\n",
              "    <tr style=\"text-align: right;\">\n",
              "      <th></th>\n",
              "      <th>Text</th>\n",
              "      <th>category</th>\n",
              "      <th>encoded_cat</th>\n",
              "    </tr>\n",
              "  </thead>\n",
              "  <tbody>\n",
              "    <tr>\n",
              "      <th>0</th>\n",
              "      <td>BOS Sir I created a new env with python 3.7 bu...</td>\n",
              "      <td>need_help</td>\n",
              "      <td>93</td>\n",
              "    </tr>\n",
              "    <tr>\n",
              "      <th>1</th>\n",
              "      <td>BOS above problem how will it solve ?? EOS</td>\n",
              "      <td>need_help</td>\n",
              "      <td>93</td>\n",
              "    </tr>\n",
              "    <tr>\n",
              "      <th>2</th>\n",
              "      <td>BOS Hello sir is there anyone EOS</td>\n",
              "      <td>Greetings</td>\n",
              "      <td>6</td>\n",
              "    </tr>\n",
              "    <tr>\n",
              "      <th>3</th>\n",
              "      <td>BOS i think canvas login problem was due to br...</td>\n",
              "      <td>great</td>\n",
              "      <td>77</td>\n",
              "    </tr>\n",
              "    <tr>\n",
              "      <th>4</th>\n",
              "      <td>BOS Please provide me with the link to python ...</td>\n",
              "      <td>community_class_link</td>\n",
              "      <td>55</td>\n",
              "    </tr>\n",
              "    <tr>\n",
              "      <th>...</th>\n",
              "      <td>...</td>\n",
              "      <td>...</td>\n",
              "      <td>...</td>\n",
              "    </tr>\n",
              "    <tr>\n",
              "      <th>3509</th>\n",
              "      <td>BOS it is not one to one resume but some advic...</td>\n",
              "      <td>need_help</td>\n",
              "      <td>93</td>\n",
              "    </tr>\n",
              "    <tr>\n",
              "      <th>3510</th>\n",
              "      <td>BOS hi good noon EOS</td>\n",
              "      <td>Greetings</td>\n",
              "      <td>6</td>\n",
              "    </tr>\n",
              "    <tr>\n",
              "      <th>3511</th>\n",
              "      <td>BOS now what will year contain EOS</td>\n",
              "      <td>code_error</td>\n",
              "      <td>52</td>\n",
              "    </tr>\n",
              "    <tr>\n",
              "      <th>3512</th>\n",
              "      <td>BOS I have extracted it but didn&amp;apos;t found ...</td>\n",
              "      <td>need_help</td>\n",
              "      <td>93</td>\n",
              "    </tr>\n",
              "    <tr>\n",
              "      <th>3513</th>\n",
              "      <td>BOS file name or extension path name EOS</td>\n",
              "      <td>need_help</td>\n",
              "      <td>93</td>\n",
              "    </tr>\n",
              "  </tbody>\n",
              "</table>\n",
              "<p>3514 rows × 3 columns</p>\n",
              "</div>\n",
              "      <button class=\"colab-df-convert\" onclick=\"convertToInteractive('df-d50f59bf-27e9-4943-ad98-dfc178380100')\"\n",
              "              title=\"Convert this dataframe to an interactive table.\"\n",
              "              style=\"display:none;\">\n",
              "        \n",
              "  <svg xmlns=\"http://www.w3.org/2000/svg\" height=\"24px\"viewBox=\"0 0 24 24\"\n",
              "       width=\"24px\">\n",
              "    <path d=\"M0 0h24v24H0V0z\" fill=\"none\"/>\n",
              "    <path d=\"M18.56 5.44l.94 2.06.94-2.06 2.06-.94-2.06-.94-.94-2.06-.94 2.06-2.06.94zm-11 1L8.5 8.5l.94-2.06 2.06-.94-2.06-.94L8.5 2.5l-.94 2.06-2.06.94zm10 10l.94 2.06.94-2.06 2.06-.94-2.06-.94-.94-2.06-.94 2.06-2.06.94z\"/><path d=\"M17.41 7.96l-1.37-1.37c-.4-.4-.92-.59-1.43-.59-.52 0-1.04.2-1.43.59L10.3 9.45l-7.72 7.72c-.78.78-.78 2.05 0 2.83L4 21.41c.39.39.9.59 1.41.59.51 0 1.02-.2 1.41-.59l7.78-7.78 2.81-2.81c.8-.78.8-2.07 0-2.86zM5.41 20L4 18.59l7.72-7.72 1.47 1.35L5.41 20z\"/>\n",
              "  </svg>\n",
              "      </button>\n",
              "      \n",
              "  <style>\n",
              "    .colab-df-container {\n",
              "      display:flex;\n",
              "      flex-wrap:wrap;\n",
              "      gap: 12px;\n",
              "    }\n",
              "\n",
              "    .colab-df-convert {\n",
              "      background-color: #E8F0FE;\n",
              "      border: none;\n",
              "      border-radius: 50%;\n",
              "      cursor: pointer;\n",
              "      display: none;\n",
              "      fill: #1967D2;\n",
              "      height: 32px;\n",
              "      padding: 0 0 0 0;\n",
              "      width: 32px;\n",
              "    }\n",
              "\n",
              "    .colab-df-convert:hover {\n",
              "      background-color: #E2EBFA;\n",
              "      box-shadow: 0px 1px 2px rgba(60, 64, 67, 0.3), 0px 1px 3px 1px rgba(60, 64, 67, 0.15);\n",
              "      fill: #174EA6;\n",
              "    }\n",
              "\n",
              "    [theme=dark] .colab-df-convert {\n",
              "      background-color: #3B4455;\n",
              "      fill: #D2E3FC;\n",
              "    }\n",
              "\n",
              "    [theme=dark] .colab-df-convert:hover {\n",
              "      background-color: #434B5C;\n",
              "      box-shadow: 0px 1px 3px 1px rgba(0, 0, 0, 0.15);\n",
              "      filter: drop-shadow(0px 1px 2px rgba(0, 0, 0, 0.3));\n",
              "      fill: #FFFFFF;\n",
              "    }\n",
              "  </style>\n",
              "\n",
              "      <script>\n",
              "        const buttonEl =\n",
              "          document.querySelector('#df-d50f59bf-27e9-4943-ad98-dfc178380100 button.colab-df-convert');\n",
              "        buttonEl.style.display =\n",
              "          google.colab.kernel.accessAllowed ? 'block' : 'none';\n",
              "\n",
              "        async function convertToInteractive(key) {\n",
              "          const element = document.querySelector('#df-d50f59bf-27e9-4943-ad98-dfc178380100');\n",
              "          const dataTable =\n",
              "            await google.colab.kernel.invokeFunction('convertToInteractive',\n",
              "                                                     [key], {});\n",
              "          if (!dataTable) return;\n",
              "\n",
              "          const docLinkHtml = 'Like what you see? Visit the ' +\n",
              "            '<a target=\"_blank\" href=https://colab.research.google.com/notebooks/data_table.ipynb>data table notebook</a>'\n",
              "            + ' to learn more about interactive tables.';\n",
              "          element.innerHTML = '';\n",
              "          dataTable['output_type'] = 'display_data';\n",
              "          await google.colab.output.renderOutput(dataTable, element);\n",
              "          const docLink = document.createElement('div');\n",
              "          docLink.innerHTML = docLinkHtml;\n",
              "          element.appendChild(docLink);\n",
              "        }\n",
              "      </script>\n",
              "    </div>\n",
              "  </div>\n",
              "  "
            ]
          },
          "metadata": {},
          "execution_count": 44
        }
      ]
    },
    {
      "cell_type": "code",
      "source": [
        "df[df['encoded_cat'] == 93]"
      ],
      "metadata": {
        "colab": {
          "base_uri": "https://localhost:8080/",
          "height": 424
        },
        "id": "Kdz_RLUtEXPG",
        "outputId": "e767133d-eecd-43e6-df81-5f176237f122"
      },
      "execution_count": null,
      "outputs": [
        {
          "output_type": "execute_result",
          "data": {
            "text/plain": [
              "                                                   Text   category  \\\n",
              "0     BOS Sir I created a new env with python 3.7 bu...  need_help   \n",
              "1            BOS above problem how will it solve ?? EOS  need_help   \n",
              "7     BOS so ill just copy paste what I wanted to kn...  need_help   \n",
              "8     BOS sir any sujjestion to overcome this error?...  need_help   \n",
              "17    BOS ok can you check and tell me my registered...  need_help   \n",
              "...                                                 ...        ...   \n",
              "3490                    BOS Sir this is what I got  EOS  need_help   \n",
              "3497  BOS i m not saying to copy i just want to know...  need_help   \n",
              "3509  BOS it is not one to one resume but some advic...  need_help   \n",
              "3512  BOS I have extracted it but didn&apos;t found ...  need_help   \n",
              "3513           BOS file name or extension path name EOS  need_help   \n",
              "\n",
              "      encoded_cat  \n",
              "0              93  \n",
              "1              93  \n",
              "7              93  \n",
              "8              93  \n",
              "17             93  \n",
              "...           ...  \n",
              "3490           93  \n",
              "3497           93  \n",
              "3509           93  \n",
              "3512           93  \n",
              "3513           93  \n",
              "\n",
              "[781 rows x 3 columns]"
            ],
            "text/html": [
              "\n",
              "  <div id=\"df-dfc02c08-44c5-4dd9-b1c3-913b50c3fc4c\">\n",
              "    <div class=\"colab-df-container\">\n",
              "      <div>\n",
              "<style scoped>\n",
              "    .dataframe tbody tr th:only-of-type {\n",
              "        vertical-align: middle;\n",
              "    }\n",
              "\n",
              "    .dataframe tbody tr th {\n",
              "        vertical-align: top;\n",
              "    }\n",
              "\n",
              "    .dataframe thead th {\n",
              "        text-align: right;\n",
              "    }\n",
              "</style>\n",
              "<table border=\"1\" class=\"dataframe\">\n",
              "  <thead>\n",
              "    <tr style=\"text-align: right;\">\n",
              "      <th></th>\n",
              "      <th>Text</th>\n",
              "      <th>category</th>\n",
              "      <th>encoded_cat</th>\n",
              "    </tr>\n",
              "  </thead>\n",
              "  <tbody>\n",
              "    <tr>\n",
              "      <th>0</th>\n",
              "      <td>BOS Sir I created a new env with python 3.7 bu...</td>\n",
              "      <td>need_help</td>\n",
              "      <td>93</td>\n",
              "    </tr>\n",
              "    <tr>\n",
              "      <th>1</th>\n",
              "      <td>BOS above problem how will it solve ?? EOS</td>\n",
              "      <td>need_help</td>\n",
              "      <td>93</td>\n",
              "    </tr>\n",
              "    <tr>\n",
              "      <th>7</th>\n",
              "      <td>BOS so ill just copy paste what I wanted to kn...</td>\n",
              "      <td>need_help</td>\n",
              "      <td>93</td>\n",
              "    </tr>\n",
              "    <tr>\n",
              "      <th>8</th>\n",
              "      <td>BOS sir any sujjestion to overcome this error?...</td>\n",
              "      <td>need_help</td>\n",
              "      <td>93</td>\n",
              "    </tr>\n",
              "    <tr>\n",
              "      <th>17</th>\n",
              "      <td>BOS ok can you check and tell me my registered...</td>\n",
              "      <td>need_help</td>\n",
              "      <td>93</td>\n",
              "    </tr>\n",
              "    <tr>\n",
              "      <th>...</th>\n",
              "      <td>...</td>\n",
              "      <td>...</td>\n",
              "      <td>...</td>\n",
              "    </tr>\n",
              "    <tr>\n",
              "      <th>3490</th>\n",
              "      <td>BOS Sir this is what I got  EOS</td>\n",
              "      <td>need_help</td>\n",
              "      <td>93</td>\n",
              "    </tr>\n",
              "    <tr>\n",
              "      <th>3497</th>\n",
              "      <td>BOS i m not saying to copy i just want to know...</td>\n",
              "      <td>need_help</td>\n",
              "      <td>93</td>\n",
              "    </tr>\n",
              "    <tr>\n",
              "      <th>3509</th>\n",
              "      <td>BOS it is not one to one resume but some advic...</td>\n",
              "      <td>need_help</td>\n",
              "      <td>93</td>\n",
              "    </tr>\n",
              "    <tr>\n",
              "      <th>3512</th>\n",
              "      <td>BOS I have extracted it but didn&amp;apos;t found ...</td>\n",
              "      <td>need_help</td>\n",
              "      <td>93</td>\n",
              "    </tr>\n",
              "    <tr>\n",
              "      <th>3513</th>\n",
              "      <td>BOS file name or extension path name EOS</td>\n",
              "      <td>need_help</td>\n",
              "      <td>93</td>\n",
              "    </tr>\n",
              "  </tbody>\n",
              "</table>\n",
              "<p>781 rows × 3 columns</p>\n",
              "</div>\n",
              "      <button class=\"colab-df-convert\" onclick=\"convertToInteractive('df-dfc02c08-44c5-4dd9-b1c3-913b50c3fc4c')\"\n",
              "              title=\"Convert this dataframe to an interactive table.\"\n",
              "              style=\"display:none;\">\n",
              "        \n",
              "  <svg xmlns=\"http://www.w3.org/2000/svg\" height=\"24px\"viewBox=\"0 0 24 24\"\n",
              "       width=\"24px\">\n",
              "    <path d=\"M0 0h24v24H0V0z\" fill=\"none\"/>\n",
              "    <path d=\"M18.56 5.44l.94 2.06.94-2.06 2.06-.94-2.06-.94-.94-2.06-.94 2.06-2.06.94zm-11 1L8.5 8.5l.94-2.06 2.06-.94-2.06-.94L8.5 2.5l-.94 2.06-2.06.94zm10 10l.94 2.06.94-2.06 2.06-.94-2.06-.94-.94-2.06-.94 2.06-2.06.94z\"/><path d=\"M17.41 7.96l-1.37-1.37c-.4-.4-.92-.59-1.43-.59-.52 0-1.04.2-1.43.59L10.3 9.45l-7.72 7.72c-.78.78-.78 2.05 0 2.83L4 21.41c.39.39.9.59 1.41.59.51 0 1.02-.2 1.41-.59l7.78-7.78 2.81-2.81c.8-.78.8-2.07 0-2.86zM5.41 20L4 18.59l7.72-7.72 1.47 1.35L5.41 20z\"/>\n",
              "  </svg>\n",
              "      </button>\n",
              "      \n",
              "  <style>\n",
              "    .colab-df-container {\n",
              "      display:flex;\n",
              "      flex-wrap:wrap;\n",
              "      gap: 12px;\n",
              "    }\n",
              "\n",
              "    .colab-df-convert {\n",
              "      background-color: #E8F0FE;\n",
              "      border: none;\n",
              "      border-radius: 50%;\n",
              "      cursor: pointer;\n",
              "      display: none;\n",
              "      fill: #1967D2;\n",
              "      height: 32px;\n",
              "      padding: 0 0 0 0;\n",
              "      width: 32px;\n",
              "    }\n",
              "\n",
              "    .colab-df-convert:hover {\n",
              "      background-color: #E2EBFA;\n",
              "      box-shadow: 0px 1px 2px rgba(60, 64, 67, 0.3), 0px 1px 3px 1px rgba(60, 64, 67, 0.15);\n",
              "      fill: #174EA6;\n",
              "    }\n",
              "\n",
              "    [theme=dark] .colab-df-convert {\n",
              "      background-color: #3B4455;\n",
              "      fill: #D2E3FC;\n",
              "    }\n",
              "\n",
              "    [theme=dark] .colab-df-convert:hover {\n",
              "      background-color: #434B5C;\n",
              "      box-shadow: 0px 1px 3px 1px rgba(0, 0, 0, 0.15);\n",
              "      filter: drop-shadow(0px 1px 2px rgba(0, 0, 0, 0.3));\n",
              "      fill: #FFFFFF;\n",
              "    }\n",
              "  </style>\n",
              "\n",
              "      <script>\n",
              "        const buttonEl =\n",
              "          document.querySelector('#df-dfc02c08-44c5-4dd9-b1c3-913b50c3fc4c button.colab-df-convert');\n",
              "        buttonEl.style.display =\n",
              "          google.colab.kernel.accessAllowed ? 'block' : 'none';\n",
              "\n",
              "        async function convertToInteractive(key) {\n",
              "          const element = document.querySelector('#df-dfc02c08-44c5-4dd9-b1c3-913b50c3fc4c');\n",
              "          const dataTable =\n",
              "            await google.colab.kernel.invokeFunction('convertToInteractive',\n",
              "                                                     [key], {});\n",
              "          if (!dataTable) return;\n",
              "\n",
              "          const docLinkHtml = 'Like what you see? Visit the ' +\n",
              "            '<a target=\"_blank\" href=https://colab.research.google.com/notebooks/data_table.ipynb>data table notebook</a>'\n",
              "            + ' to learn more about interactive tables.';\n",
              "          element.innerHTML = '';\n",
              "          dataTable['output_type'] = 'display_data';\n",
              "          await google.colab.output.renderOutput(dataTable, element);\n",
              "          const docLink = document.createElement('div');\n",
              "          docLink.innerHTML = docLinkHtml;\n",
              "          element.appendChild(docLink);\n",
              "        }\n",
              "      </script>\n",
              "    </div>\n",
              "  </div>\n",
              "  "
            ]
          },
          "metadata": {},
          "execution_count": 52
        }
      ]
    },
    {
      "cell_type": "code",
      "source": [
        "df['category'].value_counts(ascending=False)"
      ],
      "metadata": {
        "colab": {
          "base_uri": "https://localhost:8080/"
        },
        "id": "21d6NhSaiKCk",
        "outputId": "c2fdcaa9-2d24-476c-d42d-d25cfe3e3a76"
      },
      "execution_count": null,
      "outputs": [
        {
          "output_type": "execute_result",
          "data": {
            "text/plain": [
              "need_help                781\n",
              "O                        609\n",
              "Greetings                331\n",
              "Thank_you                284\n",
              "good_bye                 169\n",
              "                        ... \n",
              "aws_deployment_error       1\n",
              "assignment_matplotlib      1\n",
              "file_not_found             1\n",
              "aws_lex_smtp_error         1\n",
              "assignment_by_github       1\n",
              "Name: category, Length: 151, dtype: int64"
            ]
          },
          "metadata": {},
          "execution_count": 16
        }
      ]
    },
    {
      "cell_type": "code",
      "source": [
        "df.tail(4)"
      ],
      "metadata": {
        "colab": {
          "base_uri": "https://localhost:8080/",
          "height": 175
        },
        "id": "Wb6j5kdliLFM",
        "outputId": "f7915c2f-aedb-4647-ed0e-03ad2113facc"
      },
      "execution_count": null,
      "outputs": [
        {
          "output_type": "execute_result",
          "data": {
            "text/plain": [
              "                                                   Text    category  \\\n",
              "3510                               BOS hi good noon EOS   Greetings   \n",
              "3511                 BOS now what will year contain EOS  code_error   \n",
              "3512  BOS I have extracted it but didn&apos;t found ...   need_help   \n",
              "3513           BOS file name or extension path name EOS   need_help   \n",
              "\n",
              "      encoded_cat  \n",
              "3510            6  \n",
              "3511           52  \n",
              "3512           93  \n",
              "3513           93  "
            ],
            "text/html": [
              "\n",
              "  <div id=\"df-0266edac-bcbe-47f0-b0fe-e9eb32192594\">\n",
              "    <div class=\"colab-df-container\">\n",
              "      <div>\n",
              "<style scoped>\n",
              "    .dataframe tbody tr th:only-of-type {\n",
              "        vertical-align: middle;\n",
              "    }\n",
              "\n",
              "    .dataframe tbody tr th {\n",
              "        vertical-align: top;\n",
              "    }\n",
              "\n",
              "    .dataframe thead th {\n",
              "        text-align: right;\n",
              "    }\n",
              "</style>\n",
              "<table border=\"1\" class=\"dataframe\">\n",
              "  <thead>\n",
              "    <tr style=\"text-align: right;\">\n",
              "      <th></th>\n",
              "      <th>Text</th>\n",
              "      <th>category</th>\n",
              "      <th>encoded_cat</th>\n",
              "    </tr>\n",
              "  </thead>\n",
              "  <tbody>\n",
              "    <tr>\n",
              "      <th>3510</th>\n",
              "      <td>BOS hi good noon EOS</td>\n",
              "      <td>Greetings</td>\n",
              "      <td>6</td>\n",
              "    </tr>\n",
              "    <tr>\n",
              "      <th>3511</th>\n",
              "      <td>BOS now what will year contain EOS</td>\n",
              "      <td>code_error</td>\n",
              "      <td>52</td>\n",
              "    </tr>\n",
              "    <tr>\n",
              "      <th>3512</th>\n",
              "      <td>BOS I have extracted it but didn&amp;apos;t found ...</td>\n",
              "      <td>need_help</td>\n",
              "      <td>93</td>\n",
              "    </tr>\n",
              "    <tr>\n",
              "      <th>3513</th>\n",
              "      <td>BOS file name or extension path name EOS</td>\n",
              "      <td>need_help</td>\n",
              "      <td>93</td>\n",
              "    </tr>\n",
              "  </tbody>\n",
              "</table>\n",
              "</div>\n",
              "      <button class=\"colab-df-convert\" onclick=\"convertToInteractive('df-0266edac-bcbe-47f0-b0fe-e9eb32192594')\"\n",
              "              title=\"Convert this dataframe to an interactive table.\"\n",
              "              style=\"display:none;\">\n",
              "        \n",
              "  <svg xmlns=\"http://www.w3.org/2000/svg\" height=\"24px\"viewBox=\"0 0 24 24\"\n",
              "       width=\"24px\">\n",
              "    <path d=\"M0 0h24v24H0V0z\" fill=\"none\"/>\n",
              "    <path d=\"M18.56 5.44l.94 2.06.94-2.06 2.06-.94-2.06-.94-.94-2.06-.94 2.06-2.06.94zm-11 1L8.5 8.5l.94-2.06 2.06-.94-2.06-.94L8.5 2.5l-.94 2.06-2.06.94zm10 10l.94 2.06.94-2.06 2.06-.94-2.06-.94-.94-2.06-.94 2.06-2.06.94z\"/><path d=\"M17.41 7.96l-1.37-1.37c-.4-.4-.92-.59-1.43-.59-.52 0-1.04.2-1.43.59L10.3 9.45l-7.72 7.72c-.78.78-.78 2.05 0 2.83L4 21.41c.39.39.9.59 1.41.59.51 0 1.02-.2 1.41-.59l7.78-7.78 2.81-2.81c.8-.78.8-2.07 0-2.86zM5.41 20L4 18.59l7.72-7.72 1.47 1.35L5.41 20z\"/>\n",
              "  </svg>\n",
              "      </button>\n",
              "      \n",
              "  <style>\n",
              "    .colab-df-container {\n",
              "      display:flex;\n",
              "      flex-wrap:wrap;\n",
              "      gap: 12px;\n",
              "    }\n",
              "\n",
              "    .colab-df-convert {\n",
              "      background-color: #E8F0FE;\n",
              "      border: none;\n",
              "      border-radius: 50%;\n",
              "      cursor: pointer;\n",
              "      display: none;\n",
              "      fill: #1967D2;\n",
              "      height: 32px;\n",
              "      padding: 0 0 0 0;\n",
              "      width: 32px;\n",
              "    }\n",
              "\n",
              "    .colab-df-convert:hover {\n",
              "      background-color: #E2EBFA;\n",
              "      box-shadow: 0px 1px 2px rgba(60, 64, 67, 0.3), 0px 1px 3px 1px rgba(60, 64, 67, 0.15);\n",
              "      fill: #174EA6;\n",
              "    }\n",
              "\n",
              "    [theme=dark] .colab-df-convert {\n",
              "      background-color: #3B4455;\n",
              "      fill: #D2E3FC;\n",
              "    }\n",
              "\n",
              "    [theme=dark] .colab-df-convert:hover {\n",
              "      background-color: #434B5C;\n",
              "      box-shadow: 0px 1px 3px 1px rgba(0, 0, 0, 0.15);\n",
              "      filter: drop-shadow(0px 1px 2px rgba(0, 0, 0, 0.3));\n",
              "      fill: #FFFFFF;\n",
              "    }\n",
              "  </style>\n",
              "\n",
              "      <script>\n",
              "        const buttonEl =\n",
              "          document.querySelector('#df-0266edac-bcbe-47f0-b0fe-e9eb32192594 button.colab-df-convert');\n",
              "        buttonEl.style.display =\n",
              "          google.colab.kernel.accessAllowed ? 'block' : 'none';\n",
              "\n",
              "        async function convertToInteractive(key) {\n",
              "          const element = document.querySelector('#df-0266edac-bcbe-47f0-b0fe-e9eb32192594');\n",
              "          const dataTable =\n",
              "            await google.colab.kernel.invokeFunction('convertToInteractive',\n",
              "                                                     [key], {});\n",
              "          if (!dataTable) return;\n",
              "\n",
              "          const docLinkHtml = 'Like what you see? Visit the ' +\n",
              "            '<a target=\"_blank\" href=https://colab.research.google.com/notebooks/data_table.ipynb>data table notebook</a>'\n",
              "            + ' to learn more about interactive tables.';\n",
              "          element.innerHTML = '';\n",
              "          dataTable['output_type'] = 'display_data';\n",
              "          await google.colab.output.renderOutput(dataTable, element);\n",
              "          const docLink = document.createElement('div');\n",
              "          docLink.innerHTML = docLinkHtml;\n",
              "          element.appendChild(docLink);\n",
              "        }\n",
              "      </script>\n",
              "    </div>\n",
              "  </div>\n",
              "  "
            ]
          },
          "metadata": {},
          "execution_count": 17
        }
      ]
    },
    {
      "cell_type": "code",
      "source": [
        "from sklearn.model_selection import train_test_split\n",
        "\n",
        "X_train, X_test, y_train, y_test = train_test_split(df['Text'],df['encoded_cat'])\n",
        "print(f\"{X_train.shape, y_train.shape}\")\n",
        "print(f\"{X_test.shape, y_test.shape}\")"
      ],
      "metadata": {
        "colab": {
          "base_uri": "https://localhost:8080/"
        },
        "id": "rkJoNaa6iMBz",
        "outputId": "84878540-c525-42c1-a482-94421398ce73"
      },
      "execution_count": null,
      "outputs": [
        {
          "output_type": "stream",
          "name": "stdout",
          "text": [
            "((2635,), (2635,))\n",
            "((879,), (879,))\n"
          ]
        }
      ]
    },
    {
      "cell_type": "markdown",
      "source": [
        "Import the TF based BERT models"
      ],
      "metadata": {
        "id": "sz_UrZ0BkRxT"
      }
    },
    {
      "cell_type": "code",
      "source": [
        "bert_preprocess = hub.KerasLayer(\"https://tfhub.dev/tensorflow/bert_en_uncased_preprocess/3\")\n",
        "bert_encoder    = hub.KerasLayer(\"https://tfhub.dev/tensorflow/bert_en_uncased_L-12_H-768_A-12/4\")"
      ],
      "metadata": {
        "id": "O1ZhXHZpkKgT"
      },
      "execution_count": null,
      "outputs": []
    },
    {
      "cell_type": "markdown",
      "source": [
        "Instantiate the functional Model"
      ],
      "metadata": {
        "id": "2YDTx9IskWle"
      }
    },
    {
      "cell_type": "code",
      "source": [
        "# Bert layers\n",
        "text_input = tf.keras.layers.Input(shape=(), dtype=tf.string, name='text')\n",
        "\n",
        "preprocessed_text = bert_preprocess(text_input)\n",
        "outputs           = bert_encoder(preprocessed_text)\n",
        "\n",
        "# Neural network layers\n",
        "l1 = tf.keras.layers.Dropout(0.1, name=\"dropout\")(outputs['pooled_output'])\n",
        "l2 = tf.keras.layers.Dense(151, activation='softmax', name=\"output\")(l1)\n",
        "\n",
        "# Use inputs and outputs to construct a final model\n",
        "model = tf.keras.Model(inputs=[text_input], outputs = [l2])"
      ],
      "metadata": {
        "id": "Tc-_ZZPbkPuz"
      },
      "execution_count": null,
      "outputs": []
    },
    {
      "cell_type": "code",
      "source": [
        "model.summary()"
      ],
      "metadata": {
        "colab": {
          "base_uri": "https://localhost:8080/"
        },
        "id": "MNSM2A4gkg1j",
        "outputId": "333fa5f5-46d7-4397-9c10-5dd34230d461"
      },
      "execution_count": null,
      "outputs": [
        {
          "output_type": "stream",
          "name": "stdout",
          "text": [
            "Model: \"model\"\n",
            "__________________________________________________________________________________________________\n",
            " Layer (type)                   Output Shape         Param #     Connected to                     \n",
            "==================================================================================================\n",
            " text (InputLayer)              [(None,)]            0           []                               \n",
            "                                                                                                  \n",
            " keras_layer (KerasLayer)       {'input_word_ids':   0           ['text[0][0]']                   \n",
            "                                (None, 128),                                                      \n",
            "                                 'input_type_ids':                                                \n",
            "                                (None, 128),                                                      \n",
            "                                 'input_mask': (Non                                               \n",
            "                                e, 128)}                                                          \n",
            "                                                                                                  \n",
            " keras_layer_1 (KerasLayer)     {'sequence_output':  109482241   ['keras_layer[0][0]',            \n",
            "                                 (None, 128, 768),                'keras_layer[0][1]',            \n",
            "                                 'encoder_outputs':               'keras_layer[0][2]']            \n",
            "                                 [(None, 128, 768),                                               \n",
            "                                 (None, 128, 768),                                                \n",
            "                                 (None, 128, 768),                                                \n",
            "                                 (None, 128, 768),                                                \n",
            "                                 (None, 128, 768),                                                \n",
            "                                 (None, 128, 768),                                                \n",
            "                                 (None, 128, 768),                                                \n",
            "                                 (None, 128, 768),                                                \n",
            "                                 (None, 128, 768),                                                \n",
            "                                 (None, 128, 768),                                                \n",
            "                                 (None, 128, 768),                                                \n",
            "                                 (None, 128, 768)],                                               \n",
            "                                 'default': (None,                                                \n",
            "                                768),                                                             \n",
            "                                 'pooled_output': (                                               \n",
            "                                None, 768)}                                                       \n",
            "                                                                                                  \n",
            " dropout (Dropout)              (None, 768)          0           ['keras_layer_1[0][13]']         \n",
            "                                                                                                  \n",
            " output (Dense)                 (None, 151)          116119      ['dropout[0][0]']                \n",
            "                                                                                                  \n",
            "==================================================================================================\n",
            "Total params: 109,598,360\n",
            "Trainable params: 116,119\n",
            "Non-trainable params: 109,482,241\n",
            "__________________________________________________________________________________________________\n"
          ]
        }
      ]
    },
    {
      "cell_type": "code",
      "source": [
        "model.compile(optimizer='adam',\n",
        "              loss='sparse_categorical_crossentropy',\n",
        "              metrics=['accuracy'])"
      ],
      "metadata": {
        "id": "LtEuXcKpkh6k"
      },
      "execution_count": null,
      "outputs": []
    },
    {
      "cell_type": "code",
      "source": [
        "model.fit(X_train, y_train, epochs=5, batch_size=32, validation_data=(X_test, y_test))"
      ],
      "metadata": {
        "colab": {
          "base_uri": "https://localhost:8080/"
        },
        "id": "RErm06k8kxAU",
        "outputId": "8ef5fe0f-e9cf-4f4f-af64-19d103ca8708"
      },
      "execution_count": null,
      "outputs": [
        {
          "output_type": "stream",
          "name": "stdout",
          "text": [
            "Epoch 1/5\n",
            "83/83 [==============================] - 1561s 19s/step - loss: 3.0979 - accuracy: 0.3347 - val_loss: 2.7202 - val_accuracy: 0.3993\n",
            "Epoch 2/5\n",
            "83/83 [==============================] - 1553s 19s/step - loss: 2.6871 - accuracy: 0.4156 - val_loss: 2.6114 - val_accuracy: 0.4152\n",
            "Epoch 3/5\n",
            "83/83 [==============================] - 1556s 19s/step - loss: 2.5761 - accuracy: 0.4266 - val_loss: 2.5561 - val_accuracy: 0.4300\n",
            "Epoch 4/5\n",
            "83/83 [==============================] - 1554s 19s/step - loss: 2.4882 - accuracy: 0.4364 - val_loss: 2.5276 - val_accuracy: 0.4448\n",
            "Epoch 5/5\n",
            "83/83 [==============================] - 1555s 19s/step - loss: 2.4195 - accuracy: 0.4490 - val_loss: 2.5238 - val_accuracy: 0.4221\n"
          ]
        },
        {
          "output_type": "execute_result",
          "data": {
            "text/plain": [
              "<keras.callbacks.History at 0x7f7431eebe50>"
            ]
          },
          "metadata": {},
          "execution_count": 31
        }
      ]
    },
    {
      "cell_type": "code",
      "source": [
        "model.save('saved_model/bert_multiclass_model')"
      ],
      "metadata": {
        "colab": {
          "base_uri": "https://localhost:8080/"
        },
        "id": "B0DSoROjk1xD",
        "outputId": "56a676aa-5bc6-4acd-e0c8-e2f1e31b8f0c"
      },
      "execution_count": null,
      "outputs": [
        {
          "output_type": "stream",
          "name": "stderr",
          "text": [
            "WARNING:absl:Found untraced functions such as restored_function_body, restored_function_body, restored_function_body, restored_function_body, restored_function_body while saving (showing 5 of 366). These functions will not be directly callable after loading.\n"
          ]
        }
      ]
    },
    {
      "cell_type": "markdown",
      "source": [
        "Inference"
      ],
      "metadata": {
        "id": "XkfNT9paDeU0"
      }
    },
    {
      "cell_type": "code",
      "source": [
        "test_text=['Hi! This is sairam from DLCVNLP batch.', 'Good Morning', 'sir any sujjestion to overcome this error?']\n",
        "test_text"
      ],
      "metadata": {
        "colab": {
          "base_uri": "https://localhost:8080/"
        },
        "id": "1yb8nE5fAS4T",
        "outputId": "a9d81b27-b48e-4c29-f0c8-433cc94f1d44"
      },
      "execution_count": null,
      "outputs": [
        {
          "output_type": "execute_result",
          "data": {
            "text/plain": [
              "['Hi! This is sairam from DLCVNLP batch.',\n",
              " 'Good Morning',\n",
              " 'sir any sujjestion to overcome this error?']"
            ]
          },
          "metadata": {},
          "execution_count": 53
        }
      ]
    },
    {
      "cell_type": "code",
      "source": [
        "y_hat = model.predict(test_text)\n",
        "y_hat"
      ],
      "metadata": {
        "colab": {
          "base_uri": "https://localhost:8080/"
        },
        "id": "T7CEJOLkDtz7",
        "outputId": "71d27e41-eb6f-41f3-dfbd-f8d70b03daf2"
      },
      "execution_count": null,
      "outputs": [
        {
          "output_type": "execute_result",
          "data": {
            "text/plain": [
              "array([[2.21660623e-04, 4.37238701e-02, 2.87068106e-05, 8.65454378e-04,\n",
              "        2.39117816e-03, 2.64017668e-04, 1.69778951e-02, 1.10750599e-02,\n",
              "        2.05798745e-01, 8.73049954e-04, 2.67445401e-04, 6.47807959e-03,\n",
              "        2.20202695e-04, 2.10121085e-04, 4.11853660e-04, 1.62114928e-04,\n",
              "        8.34476668e-05, 1.97970774e-03, 1.63083095e-02, 1.36606805e-02,\n",
              "        1.27414860e-05, 6.61676226e-04, 3.40020459e-04, 2.78122287e-04,\n",
              "        1.22840877e-03, 1.56804896e-03, 1.71729140e-02, 8.21670983e-04,\n",
              "        3.11507873e-04, 8.38012807e-03, 1.19921309e-03, 2.85271183e-02,\n",
              "        1.12620788e-03, 9.90732588e-06, 4.51175310e-06, 2.71761470e-04,\n",
              "        4.70723200e-04, 2.03552463e-05, 6.93391703e-05, 4.62208549e-03,\n",
              "        3.45691363e-03, 3.46806133e-04, 1.01471287e-05, 2.89619173e-04,\n",
              "        3.06081469e-03, 4.02370672e-04, 8.22118134e-04, 4.06074687e-04,\n",
              "        1.36724850e-02, 8.39441642e-03, 8.89237039e-04, 1.82748935e-03,\n",
              "        3.41706201e-02, 6.23350381e-04, 1.23085314e-03, 1.22627313e-03,\n",
              "        1.24973862e-03, 7.25339912e-03, 2.01597400e-02, 2.45131174e-04,\n",
              "        4.79324895e-04, 1.92625797e-04, 1.18501636e-03, 1.78077037e-03,\n",
              "        1.22498283e-02, 6.99213520e-03, 1.42949319e-03, 3.20079993e-03,\n",
              "        2.01795410e-06, 1.16747525e-03, 6.85265055e-03, 3.13126692e-03,\n",
              "        1.37594412e-03, 1.21593219e-03, 3.06468341e-04, 2.18999130e-03,\n",
              "        6.29438926e-03, 1.63215585e-02, 3.83131206e-03, 5.57969976e-03,\n",
              "        6.10874500e-03, 2.12570973e-04, 1.60752982e-02, 3.17620020e-03,\n",
              "        5.83154499e-04, 1.68294006e-04, 1.60901982e-04, 3.60816694e-06,\n",
              "        2.83100788e-04, 6.03732129e-04, 1.15900370e-03, 1.73407374e-03,\n",
              "        1.32406561e-03, 1.31533638e-01, 3.01996944e-03, 1.18102413e-03,\n",
              "        6.89246412e-03, 6.01373240e-03, 5.05367552e-06, 1.77324680e-03,\n",
              "        4.83014248e-03, 1.19468477e-03, 1.25101209e-03, 9.42485814e-04,\n",
              "        1.67113617e-02, 2.39049550e-04, 2.25505722e-03, 6.50663802e-04,\n",
              "        1.12838894e-02, 1.12213125e-03, 8.79676663e-04, 1.10537076e-04,\n",
              "        7.30379776e-04, 1.71573542e-03, 7.79500871e-04, 1.40526763e-03,\n",
              "        2.62112892e-03, 5.62498253e-03, 6.52952585e-03, 1.62134966e-04,\n",
              "        1.61329447e-03, 1.84461736e-04, 1.82214938e-02, 9.36153752e-04,\n",
              "        2.38935021e-03, 1.15646201e-03, 9.60220303e-03, 1.54206486e-04,\n",
              "        1.11217618e-04, 6.09736517e-03, 3.56496288e-03, 4.72829735e-04,\n",
              "        4.93264524e-04, 9.92769375e-02, 1.51501670e-02, 3.30164074e-03,\n",
              "        3.26195586e-04, 5.29825687e-03, 1.43162697e-03, 4.93189727e-04,\n",
              "        3.51902726e-03, 1.71655134e-04, 1.50602765e-03, 9.41712187e-06,\n",
              "        1.69381837e-03, 9.43402108e-03, 1.49494124e-04, 1.87815563e-03,\n",
              "        3.51864309e-03, 1.71448337e-04, 7.42874045e-06],\n",
              "       [8.54346363e-05, 2.37904452e-02, 1.63935896e-04, 4.45584446e-04,\n",
              "        4.82909905e-04, 9.36056458e-05, 3.69943500e-01, 2.97125312e-03,\n",
              "        1.23413345e-02, 1.59160249e-04, 1.09058310e-04, 4.76934314e-02,\n",
              "        2.57607957e-04, 1.26145897e-04, 1.97630579e-04, 1.28069863e-04,\n",
              "        2.52878235e-04, 8.27161537e-04, 1.96381076e-03, 3.11244046e-03,\n",
              "        5.49272818e-06, 4.32305067e-04, 8.59369524e-04, 1.31629626e-04,\n",
              "        4.46107879e-04, 5.69066091e-04, 1.21257058e-03, 4.23313671e-04,\n",
              "        1.45441518e-04, 6.72942086e-04, 1.66705891e-03, 7.98381120e-03,\n",
              "        4.15173941e-04, 5.46760020e-06, 2.24248242e-06, 6.28132402e-05,\n",
              "        6.22292209e-05, 1.22508554e-05, 1.23277801e-04, 1.11077344e-02,\n",
              "        1.07227592e-03, 1.61129487e-04, 6.30856402e-06, 4.82754549e-05,\n",
              "        4.68499842e-04, 1.36222574e-04, 2.27281431e-04, 5.91435528e-04,\n",
              "        1.04314191e-02, 2.41904194e-03, 1.06084219e-03, 1.50436041e-04,\n",
              "        4.39919112e-03, 2.27301149e-04, 1.18957332e-03, 5.10912330e-04,\n",
              "        4.12541005e-04, 6.73004310e-04, 1.29999081e-02, 2.94407189e-04,\n",
              "        2.94643687e-04, 7.06069986e-05, 1.99817587e-04, 4.13448870e-04,\n",
              "        1.31358579e-03, 1.15573162e-03, 9.61884798e-04, 3.75587755e-04,\n",
              "        8.59855618e-07, 1.07884720e-04, 3.61559214e-03, 4.90177749e-03,\n",
              "        9.27824352e-04, 4.03722661e-04, 4.77145259e-05, 1.93053007e-03,\n",
              "        1.26480415e-01, 3.33771668e-02, 2.12288881e-03, 3.57310777e-03,\n",
              "        2.87260930e-03, 5.15266511e-05, 2.47726054e-03, 7.50150357e-04,\n",
              "        1.64644400e-04, 2.86230788e-05, 2.30636142e-04, 3.37596134e-06,\n",
              "        5.23916642e-05, 2.15257780e-04, 5.59862761e-04, 5.38016204e-03,\n",
              "        7.88332953e-04, 8.62055123e-02, 7.41374958e-03, 1.80821313e-04,\n",
              "        1.26214074e-02, 1.20838010e-03, 2.13430530e-06, 1.29712105e-03,\n",
              "        2.00169301e-03, 1.92977182e-04, 1.62156604e-04, 7.13303685e-04,\n",
              "        5.39638475e-03, 9.44156855e-05, 2.11924361e-03, 1.86234829e-04,\n",
              "        3.85305076e-03, 6.47800567e-04, 3.96147778e-04, 1.24342361e-04,\n",
              "        2.96860322e-04, 2.60434253e-03, 5.94458310e-04, 8.49659380e-04,\n",
              "        1.27788214e-03, 1.35937007e-03, 1.66648906e-03, 2.12589322e-04,\n",
              "        1.36276096e-04, 2.53247475e-04, 4.78825765e-03, 3.40306608e-04,\n",
              "        2.42864742e-04, 9.22387117e-04, 1.66583841e-03, 1.34375514e-04,\n",
              "        7.95570959e-05, 7.52812810e-03, 1.47106906e-03, 3.09389667e-04,\n",
              "        1.17069794e-04, 2.07673628e-02, 2.82853488e-02, 3.42043437e-04,\n",
              "        2.59465305e-03, 1.86211837e-03, 9.94413043e-04, 1.81426061e-04,\n",
              "        2.67516193e-03, 2.72252801e-04, 1.07105158e-03, 4.86407453e-06,\n",
              "        1.69176245e-04, 6.10746220e-02, 4.18577692e-05, 1.19658222e-03,\n",
              "        1.85514614e-03, 1.24116777e-04, 5.22111759e-06],\n",
              "       [1.88933554e-04, 3.78271751e-02, 1.09767680e-04, 8.30904639e-04,\n",
              "        8.55998951e-04, 2.68346455e-04, 1.02337554e-01, 3.63152218e-03,\n",
              "        2.47484688e-02, 3.39271850e-04, 2.98172818e-04, 1.67774707e-02,\n",
              "        2.95037986e-04, 9.83482969e-05, 2.79962318e-04, 1.64147932e-04,\n",
              "        2.43594011e-04, 9.35173943e-04, 6.63681747e-03, 4.08138148e-03,\n",
              "        8.45989598e-06, 5.46759402e-04, 9.68452077e-04, 1.61332500e-04,\n",
              "        7.49271945e-04, 1.59379561e-03, 3.58314300e-03, 5.95564197e-04,\n",
              "        2.71018886e-04, 1.60263118e-03, 1.44683255e-03, 1.62456110e-02,\n",
              "        8.14906554e-04, 8.40127632e-06, 3.35395157e-06, 9.05722845e-05,\n",
              "        1.48795792e-04, 1.85795925e-05, 1.11445930e-04, 6.07187301e-03,\n",
              "        1.78350811e-03, 2.66271381e-04, 1.03992124e-05, 1.10292342e-04,\n",
              "        7.19154545e-04, 2.56761006e-04, 4.03327605e-04, 6.86148123e-04,\n",
              "        8.63196049e-03, 4.24156990e-03, 7.69454520e-04, 5.89285919e-04,\n",
              "        2.28593219e-02, 3.05668655e-04, 9.75182455e-04, 7.52928259e-04,\n",
              "        5.95867285e-04, 1.22298836e-03, 1.44488076e-02, 2.18325207e-04,\n",
              "        3.48457601e-04, 2.92574259e-04, 4.17183386e-04, 6.47529901e-04,\n",
              "        2.73777195e-03, 2.49448931e-03, 9.83168837e-04, 7.62908312e-04,\n",
              "        2.00193017e-06, 3.24562716e-04, 3.53341131e-03, 4.55997139e-03,\n",
              "        1.01146696e-03, 7.31718203e-04, 8.64348258e-05, 2.31345883e-03,\n",
              "        6.69695511e-02, 4.76087071e-02, 5.25922235e-03, 3.94499442e-03,\n",
              "        4.25124075e-03, 7.63737407e-05, 3.56353819e-03, 2.13696295e-03,\n",
              "        2.20338159e-04, 6.59668731e-05, 2.75138649e-04, 4.41648399e-06,\n",
              "        8.07821489e-05, 4.66629455e-04, 1.30193762e-03, 4.57582809e-03,\n",
              "        1.41669170e-03, 3.30872953e-01, 5.20183891e-03, 3.38789803e-04,\n",
              "        1.29163088e-02, 2.34467257e-03, 5.03944102e-06, 1.83879829e-03,\n",
              "        2.83774920e-03, 4.30260610e-04, 3.51642666e-04, 1.52101996e-03,\n",
              "        1.02353962e-02, 1.70296873e-04, 2.97653489e-03, 3.97805736e-04,\n",
              "        7.56035931e-03, 8.67892522e-04, 7.83026102e-04, 1.43799640e-04,\n",
              "        5.67455427e-04, 2.85986415e-03, 1.33196334e-03, 1.63081440e-03,\n",
              "        2.17784964e-03, 3.76425381e-03, 2.81937118e-03, 2.65880226e-04,\n",
              "        3.06315604e-04, 2.60350760e-04, 6.83237845e-03, 7.12308392e-04,\n",
              "        6.14537101e-04, 1.16780412e-03, 2.70963088e-03, 3.07566283e-04,\n",
              "        1.27384788e-04, 1.40714906e-02, 2.94918031e-03, 2.93563935e-04,\n",
              "        3.06702772e-04, 5.05789965e-02, 2.38874406e-02, 6.83028717e-04,\n",
              "        1.40670885e-03, 2.94051203e-03, 1.11357018e-03, 2.55188410e-04,\n",
              "        1.77215284e-03, 2.63228576e-04, 8.93393997e-04, 8.98256712e-06,\n",
              "        3.99174402e-04, 2.40845848e-02, 7.25131249e-05, 2.51378887e-03,\n",
              "        1.76508806e-03, 1.83504148e-04, 5.72824911e-06]], dtype=float32)"
            ]
          },
          "metadata": {},
          "execution_count": 54
        }
      ]
    },
    {
      "cell_type": "code",
      "source": [
        "print(f\"Label {np.argmax(y_hat[0])} predicted for query {test_text[0]}\")\n",
        "print(f\"Label {np.argmax(y_hat[1])} predicted for query {test_text[1]}\")\n",
        "print(f\"Label {np.argmax(y_hat[2])} predicted for query {test_text[2]}\")"
      ],
      "metadata": {
        "colab": {
          "base_uri": "https://localhost:8080/"
        },
        "id": "wq1uVrHXD1dD",
        "outputId": "9727d649-a0d0-467e-aee3-a400f2300fd4"
      },
      "execution_count": null,
      "outputs": [
        {
          "output_type": "stream",
          "name": "stdout",
          "text": [
            "Label 8 predicted for query Hi! This is sairam from DLCVNLP batch.\n",
            "Label 6 predicted for query Good Morning\n",
            "Label 93 predicted for query sir any sujjestion to overcome this error?\n"
          ]
        }
      ]
    },
    {
      "cell_type": "markdown",
      "source": [
        "6  ==> Greetings <br>\n",
        "93 ==> Need Help <br>\n",
        "8  ==> O"
      ],
      "metadata": {
        "id": "B2Nb0-riKF8g"
      }
    },
    {
      "cell_type": "markdown",
      "source": [
        "With less number of epochs, results are nice for above three samples - howvere more number of epochs has to be trained"
      ],
      "metadata": {
        "id": "VlSjAGqUKPjn"
      }
    },
    {
      "cell_type": "markdown",
      "source": [
        "Repeat the exercise with Albert"
      ],
      "metadata": {
        "id": "DosRKngfKagg"
      }
    },
    {
      "cell_type": "code",
      "source": [
        "albert_preprocess = hub.KerasLayer(\"https://tfhub.dev/tensorflow/albert_en_preprocess/3\") \n",
        "albert_encoder    = hub.KerasLayer(\"https://tfhub.dev/tensorflow/albert_en_base/3\")"
      ],
      "metadata": {
        "id": "WdUvHhuBKVSg"
      },
      "execution_count": null,
      "outputs": []
    },
    {
      "cell_type": "code",
      "source": [
        "t = ['i like swami']\n",
        "albert_preprocess(t)"
      ],
      "metadata": {
        "colab": {
          "base_uri": "https://localhost:8080/"
        },
        "id": "tii6C1AFLF9o",
        "outputId": "43a9a708-0981-4beb-ccdf-38ac9aecf422"
      },
      "execution_count": null,
      "outputs": [
        {
          "output_type": "execute_result",
          "data": {
            "text/plain": [
              "{'input_word_ids': <tf.Tensor: shape=(1, 128), dtype=int32, numpy=\n",
              " array([[    2,    31,   339,    13, 16374,     3,     0,     0,     0,\n",
              "             0,     0,     0,     0,     0,     0,     0,     0,     0,\n",
              "             0,     0,     0,     0,     0,     0,     0,     0,     0,\n",
              "             0,     0,     0,     0,     0,     0,     0,     0,     0,\n",
              "             0,     0,     0,     0,     0,     0,     0,     0,     0,\n",
              "             0,     0,     0,     0,     0,     0,     0,     0,     0,\n",
              "             0,     0,     0,     0,     0,     0,     0,     0,     0,\n",
              "             0,     0,     0,     0,     0,     0,     0,     0,     0,\n",
              "             0,     0,     0,     0,     0,     0,     0,     0,     0,\n",
              "             0,     0,     0,     0,     0,     0,     0,     0,     0,\n",
              "             0,     0,     0,     0,     0,     0,     0,     0,     0,\n",
              "             0,     0,     0,     0,     0,     0,     0,     0,     0,\n",
              "             0,     0,     0,     0,     0,     0,     0,     0,     0,\n",
              "             0,     0,     0,     0,     0,     0,     0,     0,     0,\n",
              "             0,     0]], dtype=int32)>,\n",
              " 'input_type_ids': <tf.Tensor: shape=(1, 128), dtype=int32, numpy=\n",
              " array([[0, 0, 0, 0, 0, 0, 0, 0, 0, 0, 0, 0, 0, 0, 0, 0, 0, 0, 0, 0, 0, 0,\n",
              "         0, 0, 0, 0, 0, 0, 0, 0, 0, 0, 0, 0, 0, 0, 0, 0, 0, 0, 0, 0, 0, 0,\n",
              "         0, 0, 0, 0, 0, 0, 0, 0, 0, 0, 0, 0, 0, 0, 0, 0, 0, 0, 0, 0, 0, 0,\n",
              "         0, 0, 0, 0, 0, 0, 0, 0, 0, 0, 0, 0, 0, 0, 0, 0, 0, 0, 0, 0, 0, 0,\n",
              "         0, 0, 0, 0, 0, 0, 0, 0, 0, 0, 0, 0, 0, 0, 0, 0, 0, 0, 0, 0, 0, 0,\n",
              "         0, 0, 0, 0, 0, 0, 0, 0, 0, 0, 0, 0, 0, 0, 0, 0, 0, 0]],\n",
              "       dtype=int32)>,\n",
              " 'input_mask': <tf.Tensor: shape=(1, 128), dtype=int32, numpy=\n",
              " array([[1, 1, 1, 1, 1, 1, 0, 0, 0, 0, 0, 0, 0, 0, 0, 0, 0, 0, 0, 0, 0, 0,\n",
              "         0, 0, 0, 0, 0, 0, 0, 0, 0, 0, 0, 0, 0, 0, 0, 0, 0, 0, 0, 0, 0, 0,\n",
              "         0, 0, 0, 0, 0, 0, 0, 0, 0, 0, 0, 0, 0, 0, 0, 0, 0, 0, 0, 0, 0, 0,\n",
              "         0, 0, 0, 0, 0, 0, 0, 0, 0, 0, 0, 0, 0, 0, 0, 0, 0, 0, 0, 0, 0, 0,\n",
              "         0, 0, 0, 0, 0, 0, 0, 0, 0, 0, 0, 0, 0, 0, 0, 0, 0, 0, 0, 0, 0, 0,\n",
              "         0, 0, 0, 0, 0, 0, 0, 0, 0, 0, 0, 0, 0, 0, 0, 0, 0, 0]],\n",
              "       dtype=int32)>}"
            ]
          },
          "metadata": {},
          "execution_count": 77
        }
      ]
    },
    {
      "cell_type": "code",
      "source": [
        "input_text = tf.keras.layers.Input(shape=(), dtype=tf.string, name='Text_input')\n",
        "preprocessed_text = albert_preprocess(input_text)\n",
        "embed_outputs = albert_encoder(preprocessed_text)\n",
        "\n",
        "l1 = tf.keras.layers.Dropout(0.1, name='Dropout')(embed_outputs['pooled_output'])\n",
        "l2 = tf.keras.layers.Dense(151, activation='softmax', name='output')(l1)\n",
        "\n",
        "model = tf.keras.Model(inputs=[input_text], outputs=[l2])"
      ],
      "metadata": {
        "id": "Bo5erv7VLIp1"
      },
      "execution_count": null,
      "outputs": []
    },
    {
      "cell_type": "code",
      "source": [
        "model.compile(optimizer='adam', loss='sparse_categorical_crossentropy', metrics=['accuracy'])"
      ],
      "metadata": {
        "id": "SxJdPrQAPDNx"
      },
      "execution_count": null,
      "outputs": []
    },
    {
      "cell_type": "code",
      "source": [
        "model.summary()"
      ],
      "metadata": {
        "colab": {
          "base_uri": "https://localhost:8080/"
        },
        "id": "x34AYE-AQGgC",
        "outputId": "7e298948-12a3-43ae-837e-2e01a071a4d4"
      },
      "execution_count": null,
      "outputs": [
        {
          "output_type": "stream",
          "name": "stdout",
          "text": [
            "Model: \"model_3\"\n",
            "__________________________________________________________________________________________________\n",
            " Layer (type)                   Output Shape         Param #     Connected to                     \n",
            "==================================================================================================\n",
            " Text_input (InputLayer)        [(None,)]            0           []                               \n",
            "                                                                                                  \n",
            " keras_layer_5 (KerasLayer)     {'input_word_ids':   0           ['Text_input[0][0]']             \n",
            "                                (None, 128),                                                      \n",
            "                                 'input_type_ids':                                                \n",
            "                                (None, 128),                                                      \n",
            "                                 'input_mask': (Non                                               \n",
            "                                e, 128)}                                                          \n",
            "                                                                                                  \n",
            " keras_layer_6 (KerasLayer)     {'default': (None,   11683584    ['keras_layer_5[0][0]',          \n",
            "                                768),                             'keras_layer_5[0][1]',          \n",
            "                                 'encoder_outputs':               'keras_layer_5[0][2]']          \n",
            "                                 [(None, 128, 768),                                               \n",
            "                                 (None, 128, 768),                                                \n",
            "                                 (None, 128, 768),                                                \n",
            "                                 (None, 128, 768),                                                \n",
            "                                 (None, 128, 768),                                                \n",
            "                                 (None, 128, 768),                                                \n",
            "                                 (None, 128, 768),                                                \n",
            "                                 (None, 128, 768),                                                \n",
            "                                 (None, 128, 768),                                                \n",
            "                                 (None, 128, 768),                                                \n",
            "                                 (None, 128, 768),                                                \n",
            "                                 (None, 128, 768)],                                               \n",
            "                                 'sequence_output':                                               \n",
            "                                 (None, 128, 768),                                                \n",
            "                                 'pooled_output': (                                               \n",
            "                                None, 768)}                                                       \n",
            "                                                                                                  \n",
            " Dropout (Dropout)              (None, 768)          0           ['keras_layer_6[0][13]']         \n",
            "                                                                                                  \n",
            " output (Dense)                 (None, 151)          116119      ['Dropout[0][0]']                \n",
            "                                                                                                  \n",
            "==================================================================================================\n",
            "Total params: 11,799,703\n",
            "Trainable params: 116,119\n",
            "Non-trainable params: 11,683,584\n",
            "__________________________________________________________________________________________________\n"
          ]
        }
      ]
    },
    {
      "cell_type": "code",
      "source": [
        "model.fit(X_train, y_train, validation_data=(X_test, y_test), batch_size=32, epochs=2)"
      ],
      "metadata": {
        "colab": {
          "base_uri": "https://localhost:8080/"
        },
        "id": "wnigClHNQIFC",
        "outputId": "63db89b6-e38e-4748-b4cb-9a6d25e2c44f"
      },
      "execution_count": null,
      "outputs": [
        {
          "output_type": "stream",
          "name": "stdout",
          "text": [
            "Epoch 1/2\n",
            "83/83 [==============================] - 1590s 19s/step - loss: 3.2433 - accuracy: 0.3260 - val_loss: 2.7648 - val_accuracy: 0.3766\n",
            "Epoch 2/2\n",
            "83/83 [==============================] - 1572s 19s/step - loss: 2.7359 - accuracy: 0.4008 - val_loss: 2.6446 - val_accuracy: 0.4312\n"
          ]
        },
        {
          "output_type": "execute_result",
          "data": {
            "text/plain": [
              "<keras.callbacks.History at 0x7f742fa479a0>"
            ]
          },
          "metadata": {},
          "execution_count": 81
        }
      ]
    },
    {
      "cell_type": "code",
      "source": [
        "model.save('albert_saved_model/albert_multiclass_model')"
      ],
      "metadata": {
        "colab": {
          "base_uri": "https://localhost:8080/"
        },
        "id": "U9w20AKsQdQp",
        "outputId": "bd56ce82-4425-4b01-cf22-960b6920058d"
      },
      "execution_count": null,
      "outputs": [
        {
          "output_type": "stream",
          "name": "stderr",
          "text": [
            "WARNING:absl:Function `_wrapped_model` contains input name(s) Text_input with unsupported characters which will be renamed to text_input in the SavedModel.\n",
            "WARNING:absl:Found untraced functions such as restored_function_body, restored_function_body, restored_function_body, restored_function_body, restored_function_body while saving (showing 5 of 36). These functions will not be directly callable after loading.\n"
          ]
        }
      ]
    },
    {
      "cell_type": "code",
      "source": [
        "y_hat = model.predict(test_text)\n",
        "y_hat"
      ],
      "metadata": {
        "colab": {
          "base_uri": "https://localhost:8080/"
        },
        "id": "3rFzsPs6d2Ht",
        "outputId": "13037a56-596e-40d2-e972-0f6f073770c8"
      },
      "execution_count": null,
      "outputs": [
        {
          "output_type": "execute_result",
          "data": {
            "text/plain": [
              "array([[6.87171298e-04, 2.69184704e-03, 1.54683381e-04, 1.27634604e-03,\n",
              "        3.19496542e-03, 8.02720198e-04, 5.31283468e-02, 3.99560407e-02,\n",
              "        3.17867985e-03, 5.15802589e-04, 2.55493657e-03, 2.85327211e-02,\n",
              "        4.70891967e-03, 4.52861626e-04, 6.71974150e-04, 1.30017439e-03,\n",
              "        7.10664259e-04, 1.78872712e-03, 5.36591047e-03, 3.81897087e-03,\n",
              "        7.02380130e-05, 7.71609659e-04, 1.37478439e-03, 8.51185468e-04,\n",
              "        2.84494599e-04, 1.66139484e-03, 5.00120176e-03, 3.86922940e-04,\n",
              "        1.48145098e-03, 7.03653274e-03, 1.11895718e-03, 4.26074816e-03,\n",
              "        9.16727877e-04, 4.79616938e-05, 7.87261015e-05, 3.10776843e-04,\n",
              "        1.11943856e-03, 2.63209495e-05, 1.06089958e-03, 3.75072774e-03,\n",
              "        1.62323134e-03, 1.77803717e-03, 7.72281492e-05, 1.34984485e-03,\n",
              "        2.33757473e-03, 8.52591766e-04, 1.34054793e-03, 2.79708486e-03,\n",
              "        3.39996582e-03, 7.25295907e-03, 1.51666789e-03, 4.72040754e-03,\n",
              "        1.23171546e-02, 5.12769818e-03, 2.22759461e-03, 5.23760449e-03,\n",
              "        3.73747171e-04, 2.75986153e-03, 2.99766064e-02, 1.65984675e-03,\n",
              "        6.04454288e-03, 2.54261517e-03, 4.32771677e-03, 5.15795685e-03,\n",
              "        1.74309814e-03, 1.41982059e-03, 2.93912250e-04, 2.70778988e-03,\n",
              "        2.94407255e-05, 2.96981027e-03, 3.80988047e-03, 3.18305716e-02,\n",
              "        2.27880944e-03, 2.59397668e-04, 1.27715338e-03, 3.07741133e-03,\n",
              "        1.51552903e-02, 1.18486583e-02, 1.57935114e-03, 1.32757158e-03,\n",
              "        7.44530058e-04, 3.26191483e-04, 4.88673076e-02, 3.48680955e-03,\n",
              "        3.80839629e-04, 3.57569923e-04, 4.66622034e-04, 1.15697367e-04,\n",
              "        1.47357013e-03, 5.98570623e-04, 1.78454851e-03, 5.14862640e-03,\n",
              "        2.19463650e-03, 2.92233497e-01, 8.24122038e-03, 4.03173530e-04,\n",
              "        6.02017669e-03, 2.15150090e-03, 8.97831051e-05, 1.79749541e-03,\n",
              "        4.55713877e-03, 7.91184313e-04, 8.34812818e-04, 4.07070294e-03,\n",
              "        2.27367785e-02, 5.92108699e-04, 1.07621378e-03, 1.18235592e-03,\n",
              "        4.58282651e-03, 1.57039810e-03, 3.22123244e-03, 3.05378158e-03,\n",
              "        9.15115874e-04, 5.03992429e-03, 1.95436040e-03, 6.24032458e-04,\n",
              "        3.19961528e-03, 2.74172891e-03, 8.71859957e-03, 1.39379560e-03,\n",
              "        1.98277947e-03, 4.00792109e-04, 1.08359260e-02, 4.08752385e-04,\n",
              "        6.02267333e-04, 2.82912375e-03, 6.32150890e-03, 1.97239732e-03,\n",
              "        5.72676072e-04, 5.13589568e-03, 2.08931742e-03, 3.74456984e-03,\n",
              "        5.69797994e-04, 9.88720730e-02, 3.16728535e-03, 4.98359511e-03,\n",
              "        1.33508479e-03, 3.06707597e-03, 5.69890428e-04, 5.30626683e-04,\n",
              "        1.98885403e-03, 5.94498706e-04, 6.29052462e-04, 5.00148308e-05,\n",
              "        1.14631155e-04, 1.42872566e-02, 3.64438107e-04, 4.97230561e-03,\n",
              "        1.00206689e-03, 7.33364082e-04, 2.24267551e-05],\n",
              "       [3.14829685e-03, 6.27577305e-03, 3.66137759e-03, 6.42956002e-03,\n",
              "        6.38968451e-03, 4.10030084e-03, 2.86899656e-02, 3.91516881e-03,\n",
              "        3.98321124e-03, 2.71603395e-03, 3.10066389e-03, 1.03190038e-02,\n",
              "        1.23890173e-02, 3.50999739e-03, 3.87077476e-03, 1.04486030e-02,\n",
              "        7.63946446e-03, 5.68806985e-03, 2.95763020e-03, 3.08968918e-03,\n",
              "        7.19387317e-03, 7.11696735e-03, 5.19863609e-03, 2.54862406e-03,\n",
              "        6.63537858e-03, 3.76016810e-03, 4.73593036e-03, 4.51681623e-03,\n",
              "        4.32929676e-03, 8.74800608e-03, 2.52598501e-03, 7.92215019e-03,\n",
              "        5.57298167e-03, 2.18284479e-03, 6.94878539e-03, 3.28663504e-03,\n",
              "        2.68047606e-03, 5.69744315e-03, 5.00723952e-03, 2.52467487e-03,\n",
              "        5.23739774e-03, 7.93690607e-03, 4.43511829e-03, 3.35723534e-03,\n",
              "        3.11781955e-03, 5.14339935e-03, 6.45197742e-03, 7.95249268e-03,\n",
              "        7.61141488e-03, 5.15223760e-03, 9.24667343e-03, 5.99038228e-03,\n",
              "        6.44072145e-03, 6.23725122e-03, 4.99299960e-03, 9.82722640e-03,\n",
              "        6.97611785e-03, 4.31970786e-03, 1.04651423e-02, 3.88394226e-03,\n",
              "        1.44547140e-02, 7.20576150e-03, 6.73973328e-03, 3.46701965e-03,\n",
              "        6.04317850e-03, 4.33148956e-03, 3.73575301e-03, 3.86550603e-03,\n",
              "        4.60928446e-03, 1.92093058e-03, 7.83039257e-03, 6.37061661e-03,\n",
              "        2.44695088e-03, 4.97232936e-03, 9.84395202e-03, 2.20436743e-03,\n",
              "        4.26795706e-02, 1.41407102e-02, 4.44819639e-03, 8.93042795e-03,\n",
              "        8.24034307e-03, 8.71389173e-03, 1.12962378e-02, 5.46588609e-03,\n",
              "        1.71293470e-03, 3.21453810e-03, 8.72730743e-03, 5.87537652e-03,\n",
              "        7.53419567e-03, 1.18305692e-02, 4.32405947e-03, 8.89119506e-03,\n",
              "        4.05488070e-03, 1.31554510e-02, 9.91495419e-03, 3.21186054e-03,\n",
              "        6.01631217e-03, 6.08202768e-03, 3.58309108e-03, 4.77829203e-03,\n",
              "        9.09350347e-03, 2.49476894e-03, 8.54179636e-03, 2.40330189e-03,\n",
              "        1.06052114e-02, 4.23053466e-03, 4.33129631e-03, 2.58037867e-03,\n",
              "        9.15882736e-03, 4.03448427e-03, 6.30438561e-03, 2.16011144e-03,\n",
              "        8.84516630e-03, 5.56509988e-03, 4.12495574e-03, 6.00642525e-03,\n",
              "        4.21441579e-03, 1.07958233e-02, 1.16073154e-02, 4.92577208e-03,\n",
              "        4.38172882e-03, 3.01110581e-03, 8.73058662e-03, 1.31842420e-02,\n",
              "        6.82859775e-03, 9.00107063e-03, 5.95230889e-03, 3.99869587e-03,\n",
              "        5.54705784e-03, 1.17204115e-02, 6.74783392e-03, 4.00766404e-03,\n",
              "        1.86667929e-03, 2.02396624e-02, 1.06651420e-02, 4.19312902e-03,\n",
              "        1.24282064e-02, 1.02198916e-02, 5.49745327e-03, 4.97551681e-03,\n",
              "        1.28244259e-03, 2.24292721e-03, 2.55972776e-03, 4.40061977e-03,\n",
              "        2.71014892e-03, 2.30214205e-02, 5.23297070e-03, 7.56214978e-03,\n",
              "        4.84190043e-03, 1.49242813e-02, 2.90524890e-03],\n",
              "       [9.02348984e-05, 1.78382918e-03, 9.37103323e-05, 1.86826495e-04,\n",
              "        4.53130022e-04, 2.51322461e-04, 9.26596448e-02, 8.79241899e-03,\n",
              "        3.38069461e-02, 2.63080310e-05, 4.14286827e-04, 6.81980774e-02,\n",
              "        1.40782504e-03, 8.60703949e-05, 9.16833451e-05, 2.30477614e-04,\n",
              "        2.43761373e-04, 3.86074185e-04, 4.13119607e-03, 1.10540772e-03,\n",
              "        4.65480798e-06, 3.66167224e-04, 6.20925508e-04, 1.59716772e-04,\n",
              "        7.40164687e-05, 1.11711607e-03, 1.44994829e-03, 8.33980303e-05,\n",
              "        8.80275504e-04, 1.56666047e-03, 5.75971266e-04, 2.58144108e-03,\n",
              "        3.61229904e-04, 4.32447314e-06, 8.04326191e-06, 1.65016172e-04,\n",
              "        1.51529632e-04, 3.14497811e-06, 2.94645666e-04, 1.51190266e-03,\n",
              "        3.87232780e-04, 7.20257347e-04, 6.76917989e-06, 3.60765145e-04,\n",
              "        5.35802625e-04, 2.38208435e-04, 2.20611022e-04, 6.20175968e-04,\n",
              "        6.33235613e-04, 2.62887962e-03, 5.06386044e-04, 1.97804795e-04,\n",
              "        2.98298616e-02, 3.60922562e-03, 1.32625713e-03, 2.98623374e-04,\n",
              "        1.40012940e-04, 1.21252495e-03, 2.50217244e-02, 9.75048693e-04,\n",
              "        1.05805462e-03, 5.63288224e-04, 7.50095351e-03, 9.12605610e-04,\n",
              "        6.99351425e-04, 5.51982957e-04, 8.39106069e-05, 7.85587996e-04,\n",
              "        3.50072924e-06, 1.91510844e-04, 1.02650176e-03, 1.25932619e-02,\n",
              "        3.62691091e-04, 8.76135164e-05, 4.06215840e-05, 8.73729296e-04,\n",
              "        2.86484938e-02, 4.10598554e-02, 1.46894378e-03, 8.88724229e-04,\n",
              "        5.65777125e-04, 8.50424185e-05, 1.68779213e-02, 2.93015223e-03,\n",
              "        2.61149398e-04, 1.34070870e-04, 6.54689138e-05, 8.09374706e-06,\n",
              "        3.88479297e-04, 1.15075556e-04, 4.43674217e-04, 5.81229292e-03,\n",
              "        2.72541563e-03, 4.09471393e-01, 5.43635758e-03, 1.07114800e-04,\n",
              "        9.47426166e-03, 1.88819494e-03, 8.67961353e-06, 2.45274650e-03,\n",
              "        1.39098091e-03, 7.99981426e-05, 4.57035989e-04, 4.27365536e-04,\n",
              "        1.82633400e-02, 1.22369325e-04, 4.07430431e-04, 3.57424113e-04,\n",
              "        3.94520396e-03, 9.61364363e-04, 1.86426053e-03, 6.23228552e-04,\n",
              "        5.27033990e-04, 6.42076251e-04, 1.61302683e-03, 3.20607185e-04,\n",
              "        1.61708775e-03, 5.21526090e-04, 8.02232791e-03, 5.13443025e-04,\n",
              "        1.89887171e-04, 1.19585151e-04, 3.28730629e-03, 1.34032642e-04,\n",
              "        5.11596387e-04, 1.00752048e-03, 9.51701310e-04, 1.00465538e-03,\n",
              "        1.06606472e-04, 4.85728122e-03, 1.50819658e-03, 2.03341464e-04,\n",
              "        2.97252962e-04, 4.24113795e-02, 7.02238642e-03, 3.25968908e-03,\n",
              "        2.51931517e-04, 4.48729284e-03, 1.79352923e-04, 7.75348599e-05,\n",
              "        2.61752307e-03, 4.57223039e-04, 1.88076621e-04, 3.25653491e-06,\n",
              "        9.11738753e-05, 2.20527370e-02, 2.24460717e-04, 4.96801035e-03,\n",
              "        1.50169290e-04, 1.58871058e-04, 1.41341252e-06]], dtype=float32)"
            ]
          },
          "metadata": {},
          "execution_count": 83
        }
      ]
    },
    {
      "cell_type": "code",
      "source": [
        "print(f\"Label {np.argmax(y_hat[0])} predicted for query {test_text[0]}\")\n",
        "print(f\"Label {np.argmax(y_hat[1])} predicted for query {test_text[1]}\")\n",
        "print(f\"Label {np.argmax(y_hat[2])} predicted for query {test_text[2]}\")"
      ],
      "metadata": {
        "colab": {
          "base_uri": "https://localhost:8080/"
        },
        "id": "nZuNXrXMd5nC",
        "outputId": "1e0eeac4-753a-46a2-96fb-e64dc22982f7"
      },
      "execution_count": null,
      "outputs": [
        {
          "output_type": "stream",
          "name": "stdout",
          "text": [
            "Label 93 predicted for query Hi! This is sairam from DLCVNLP batch.\n",
            "Label 76 predicted for query Good Morning\n",
            "Label 93 predicted for query sir any sujjestion to overcome this error?\n"
          ]
        }
      ]
    },
    {
      "cell_type": "markdown",
      "source": [
        "6  ==> Greetings <br>\n",
        "93 ==> Need Help <br>\n",
        "8  ==> O <br>\n",
        "76 ==> Good Bye"
      ],
      "metadata": {
        "id": "DwwWwMOceEJR"
      }
    },
    {
      "cell_type": "markdown",
      "source": [
        "Cannot expect more accuracy as the training was executed for 2 epochs"
      ],
      "metadata": {
        "id": "WsphEXLqeofJ"
      }
    },
    {
      "cell_type": "markdown",
      "source": [
        "Repeat the exercise with Distilbert"
      ],
      "metadata": {
        "id": "nc4091gyfCrb"
      }
    },
    {
      "cell_type": "code",
      "source": [
        "distilbert_preprocess = hub.KerasLayer(\"https://tfhub.dev/jeongukjae/distilbert_multi_cased_preprocess/2\") \n",
        "distilbert_encoder    = hub.KerasLayer(\"https://tfhub.dev/jeongukjae/distilbert_multi_cased_L-6_H-768_A-12/1\")"
      ],
      "metadata": {
        "id": "lRSso1W3eLwS"
      },
      "execution_count": null,
      "outputs": []
    },
    {
      "cell_type": "code",
      "source": [
        "t = ['i like swami']\n",
        "distilbert_preprocess(t)"
      ],
      "metadata": {
        "colab": {
          "base_uri": "https://localhost:8080/"
        },
        "id": "k1tSV93kfWJL",
        "outputId": "b8763318-7f3c-49fc-ca15-99ec7a0e5cb6"
      },
      "execution_count": null,
      "outputs": [
        {
          "output_type": "execute_result",
          "data": {
            "text/plain": [
              "{'input_mask': <tf.Tensor: shape=(1, 128), dtype=int32, numpy=\n",
              " array([[1, 1, 1, 1, 1, 1, 0, 0, 0, 0, 0, 0, 0, 0, 0, 0, 0, 0, 0, 0, 0, 0,\n",
              "         0, 0, 0, 0, 0, 0, 0, 0, 0, 0, 0, 0, 0, 0, 0, 0, 0, 0, 0, 0, 0, 0,\n",
              "         0, 0, 0, 0, 0, 0, 0, 0, 0, 0, 0, 0, 0, 0, 0, 0, 0, 0, 0, 0, 0, 0,\n",
              "         0, 0, 0, 0, 0, 0, 0, 0, 0, 0, 0, 0, 0, 0, 0, 0, 0, 0, 0, 0, 0, 0,\n",
              "         0, 0, 0, 0, 0, 0, 0, 0, 0, 0, 0, 0, 0, 0, 0, 0, 0, 0, 0, 0, 0, 0,\n",
              "         0, 0, 0, 0, 0, 0, 0, 0, 0, 0, 0, 0, 0, 0, 0, 0, 0, 0]],\n",
              "       dtype=int32)>,\n",
              " 'input_word_ids': <tf.Tensor: shape=(1, 128), dtype=int32, numpy=\n",
              " array([[   101,    177,  16138,    187, 105097,    102,      0,      0,\n",
              "              0,      0,      0,      0,      0,      0,      0,      0,\n",
              "              0,      0,      0,      0,      0,      0,      0,      0,\n",
              "              0,      0,      0,      0,      0,      0,      0,      0,\n",
              "              0,      0,      0,      0,      0,      0,      0,      0,\n",
              "              0,      0,      0,      0,      0,      0,      0,      0,\n",
              "              0,      0,      0,      0,      0,      0,      0,      0,\n",
              "              0,      0,      0,      0,      0,      0,      0,      0,\n",
              "              0,      0,      0,      0,      0,      0,      0,      0,\n",
              "              0,      0,      0,      0,      0,      0,      0,      0,\n",
              "              0,      0,      0,      0,      0,      0,      0,      0,\n",
              "              0,      0,      0,      0,      0,      0,      0,      0,\n",
              "              0,      0,      0,      0,      0,      0,      0,      0,\n",
              "              0,      0,      0,      0,      0,      0,      0,      0,\n",
              "              0,      0,      0,      0,      0,      0,      0,      0,\n",
              "              0,      0,      0,      0,      0,      0,      0,      0]],\n",
              "       dtype=int32)>}"
            ]
          },
          "metadata": {},
          "execution_count": 87
        }
      ]
    },
    {
      "cell_type": "code",
      "source": [
        "input_text = tf.keras.layers.Input(shape=(), dtype=tf.string, name='Text_input')\n",
        "preprocessed_text = distilbert_preprocess(input_text)\n",
        "embed_outputs = distilbert_encoder(preprocessed_text)\n",
        "\n",
        "l1 = tf.keras.layers.Dropout(0.1, name='Dropout')(embed_outputs['pooled_output'])\n",
        "l2 = tf.keras.layers.Dense(151, activation='softmax', name='output')(l1)\n",
        "\n",
        "model = tf.keras.Model(inputs=[input_text], outputs=[l2])"
      ],
      "metadata": {
        "id": "CbP8TjsrfZ2i"
      },
      "execution_count": null,
      "outputs": []
    },
    {
      "cell_type": "code",
      "source": [
        "model.compile(optimizer='adam', loss='sparse_categorical_crossentropy', metrics=['accuracy'])"
      ],
      "metadata": {
        "id": "WKeVKQYbfj1S"
      },
      "execution_count": null,
      "outputs": []
    },
    {
      "cell_type": "code",
      "source": [
        "model.summary()"
      ],
      "metadata": {
        "colab": {
          "base_uri": "https://localhost:8080/"
        },
        "id": "ilUjHwFbfmAt",
        "outputId": "9c397d3f-1631-485c-8263-1b4d826c1f96"
      },
      "execution_count": null,
      "outputs": [
        {
          "output_type": "stream",
          "name": "stdout",
          "text": [
            "Model: \"model_4\"\n",
            "__________________________________________________________________________________________________\n",
            " Layer (type)                   Output Shape         Param #     Connected to                     \n",
            "==================================================================================================\n",
            " Text_input (InputLayer)        [(None,)]            0           []                               \n",
            "                                                                                                  \n",
            " keras_layer_7 (KerasLayer)     {'input_mask': (Non  0           ['Text_input[0][0]']             \n",
            "                                e, 128),                                                          \n",
            "                                 'input_word_ids':                                                \n",
            "                                (None, 128)}                                                      \n",
            "                                                                                                  \n",
            " keras_layer_8 (KerasLayer)     {'sequence_output':  134734080   ['keras_layer_7[0][0]',          \n",
            "                                 (None, 128, 768),                'keras_layer_7[0][1]']          \n",
            "                                 'pooled_output': (                                               \n",
            "                                None, 768),                                                       \n",
            "                                 'encoder_outputs':                                               \n",
            "                                 [(None, 128, 768),                                               \n",
            "                                 (None, 128, 768),                                                \n",
            "                                 (None, 128, 768),                                                \n",
            "                                 (None, 128, 768),                                                \n",
            "                                 (None, 128, 768),                                                \n",
            "                                 (None, 128, 768)]}                                               \n",
            "                                                                                                  \n",
            " Dropout (Dropout)              (None, 768)          0           ['keras_layer_8[0][6]']          \n",
            "                                                                                                  \n",
            " output (Dense)                 (None, 151)          116119      ['Dropout[0][0]']                \n",
            "                                                                                                  \n",
            "==================================================================================================\n",
            "Total params: 134,850,199\n",
            "Trainable params: 116,119\n",
            "Non-trainable params: 134,734,080\n",
            "__________________________________________________________________________________________________\n"
          ]
        }
      ]
    },
    {
      "cell_type": "code",
      "source": [
        "model.fit(X_train, y_train, validation_data=(X_test, y_test), batch_size=32, epochs=2)"
      ],
      "metadata": {
        "colab": {
          "base_uri": "https://localhost:8080/"
        },
        "id": "OhnzM4aSfoBi",
        "outputId": "9e920e95-0444-483d-e342-545096b5375a"
      },
      "execution_count": null,
      "outputs": [
        {
          "output_type": "stream",
          "name": "stdout",
          "text": [
            "Epoch 1/2\n",
            "83/83 [==============================] - 779s 9s/step - loss: 3.0339 - accuracy: 0.3628 - val_loss: 2.4998 - val_accuracy: 0.4801\n",
            "Epoch 2/2\n",
            "83/83 [==============================] - 771s 9s/step - loss: 2.3888 - accuracy: 0.4850 - val_loss: 2.3234 - val_accuracy: 0.5028\n"
          ]
        },
        {
          "output_type": "execute_result",
          "data": {
            "text/plain": [
              "<keras.callbacks.History at 0x7f74333d8c10>"
            ]
          },
          "metadata": {},
          "execution_count": 91
        }
      ]
    },
    {
      "cell_type": "code",
      "source": [
        "model.save('distilbert_saved_model/distilbert_multiclass_model')"
      ],
      "metadata": {
        "colab": {
          "base_uri": "https://localhost:8080/"
        },
        "id": "kc72fc0DfsQT",
        "outputId": "d6f4477b-e415-4d8c-91b4-867fbdaa1fac"
      },
      "execution_count": null,
      "outputs": [
        {
          "output_type": "stream",
          "name": "stderr",
          "text": [
            "WARNING:absl:Function `_wrapped_model` contains input name(s) Text_input with unsupported characters which will be renamed to text_input in the SavedModel.\n",
            "WARNING:absl:Found untraced functions such as restored_function_body, restored_function_body, restored_function_body, restored_function_body, restored_function_body while saving (showing 5 of 180). These functions will not be directly callable after loading.\n"
          ]
        }
      ]
    },
    {
      "cell_type": "code",
      "source": [
        "y_hat = model.predict(test_text)\n",
        "y_hat"
      ],
      "metadata": {
        "colab": {
          "base_uri": "https://localhost:8080/"
        },
        "id": "rZVmomLlfxqC",
        "outputId": "225d377e-dc3b-40db-cde0-f9e314c2b7d3"
      },
      "execution_count": null,
      "outputs": [
        {
          "output_type": "execute_result",
          "data": {
            "text/plain": [
              "array([[3.12653487e-04, 1.21727716e-02, 1.91726687e-03, 5.03603194e-04,\n",
              "        4.08328633e-04, 1.18100527e-03, 3.80099677e-02, 6.25723694e-03,\n",
              "        1.84632212e-01, 8.16299871e-04, 1.59143959e-03, 2.62109563e-02,\n",
              "        3.04833124e-03, 4.91783605e-04, 4.32152592e-04, 1.86968048e-03,\n",
              "        4.99140937e-04, 7.85915938e-04, 6.97561400e-03, 3.17496969e-03,\n",
              "        1.38128089e-04, 8.62318964e-04, 1.86398416e-03, 6.59088546e-04,\n",
              "        5.67875104e-04, 2.33430415e-03, 3.83565668e-03, 4.72335407e-04,\n",
              "        1.37372524e-03, 5.87968854e-03, 6.39120070e-03, 1.25351818e-02,\n",
              "        4.06589534e-04, 6.98993099e-05, 8.91761156e-05, 7.94870721e-04,\n",
              "        6.04821718e-04, 7.30697866e-05, 6.21459621e-04, 1.35888215e-02,\n",
              "        1.13181281e-03, 7.19546108e-04, 1.92679465e-04, 5.46803116e-04,\n",
              "        8.26509553e-04, 3.46113142e-04, 5.34459774e-04, 1.03915087e-03,\n",
              "        1.42450621e-02, 2.14995304e-03, 6.21325395e-04, 1.56846654e-03,\n",
              "        4.45154868e-02, 2.04957835e-03, 2.52602901e-03, 3.83757218e-03,\n",
              "        6.80094177e-04, 2.66394275e-03, 1.10108750e-02, 8.47964373e-04,\n",
              "        6.53082505e-04, 1.77832099e-03, 1.84509740e-03, 3.30967386e-03,\n",
              "        2.34039826e-03, 1.36775775e-02, 6.16290956e-04, 4.92214831e-03,\n",
              "        7.86513556e-05, 8.69036594e-04, 1.51803461e-03, 2.42883321e-02,\n",
              "        1.85174658e-03, 8.11263453e-04, 5.79338928e-04, 8.52875132e-03,\n",
              "        7.43559003e-03, 2.32175123e-02, 5.37167769e-03, 2.93144374e-03,\n",
              "        2.93330359e-03, 4.43994213e-04, 8.64744373e-03, 2.89509702e-03,\n",
              "        1.17027678e-03, 7.45544967e-04, 3.49641254e-04, 2.02068040e-04,\n",
              "        3.90209811e-04, 1.08289695e-03, 2.76149227e-03, 2.11879634e-03,\n",
              "        2.95820786e-03, 2.20112473e-01, 5.55487117e-03, 5.71351207e-04,\n",
              "        8.83864053e-03, 2.39493069e-03, 2.47234246e-04, 2.41933390e-03,\n",
              "        1.47149712e-03, 4.91202401e-04, 7.63607270e-04, 1.46947370e-03,\n",
              "        1.16029950e-02, 7.35563051e-04, 9.15026758e-04, 5.19341463e-03,\n",
              "        4.67306469e-03, 2.35740282e-03, 2.80659040e-03, 3.70292430e-04,\n",
              "        4.41063719e-04, 1.43823831e-03, 5.87142655e-04, 1.18550146e-03,\n",
              "        1.37197273e-03, 4.45187604e-03, 4.27994132e-03, 7.25922408e-04,\n",
              "        2.56814703e-04, 5.88002149e-04, 8.97478499e-03, 7.06340186e-04,\n",
              "        7.69110280e-04, 1.56194787e-03, 3.20934830e-03, 7.38973496e-04,\n",
              "        8.30608944e-04, 1.17644807e-02, 1.78233383e-03, 6.92896661e-04,\n",
              "        1.08142884e-03, 3.92505974e-02, 1.40339099e-02, 1.46097073e-03,\n",
              "        1.11474923e-03, 4.21608146e-03, 4.67714883e-04, 6.29668240e-04,\n",
              "        1.18005583e-02, 5.43207745e-04, 1.20315910e-03, 1.05129919e-04,\n",
              "        5.83564339e-04, 2.29881071e-02, 5.06524753e-04, 7.99710397e-03,\n",
              "        1.57107657e-03, 1.08860584e-03, 1.81650976e-04],\n",
              "       [5.40512381e-04, 8.84153321e-03, 1.05358171e-03, 9.54353192e-04,\n",
              "        5.99858409e-04, 8.42119392e-04, 1.51618749e-01, 2.93269288e-03,\n",
              "        8.91630501e-02, 4.36235685e-04, 8.18356173e-04, 1.93156213e-01,\n",
              "        2.08916003e-03, 5.86854410e-04, 3.28986469e-04, 1.46431173e-03,\n",
              "        4.19874355e-04, 9.80185112e-04, 4.54925979e-03, 2.55123316e-03,\n",
              "        1.95968605e-04, 6.31817267e-04, 1.68722728e-03, 7.66584766e-04,\n",
              "        3.05557478e-04, 1.30159804e-03, 2.41371477e-03, 5.99737104e-04,\n",
              "        6.41072635e-04, 1.87542930e-03, 4.13184334e-03, 3.45648290e-03,\n",
              "        4.53022134e-04, 1.67743652e-04, 1.06602994e-04, 4.50449792e-04,\n",
              "        5.07708464e-04, 6.49049252e-05, 4.71384847e-04, 2.03173570e-02,\n",
              "        1.38829893e-03, 5.83272020e-04, 1.79916678e-04, 5.03135205e-04,\n",
              "        7.24632177e-04, 3.71816393e-04, 8.42546346e-04, 6.04151341e-04,\n",
              "        6.84679719e-03, 1.45941204e-03, 9.05978959e-04, 8.24017508e-04,\n",
              "        1.05378600e-02, 7.84027332e-04, 2.97435396e-03, 2.57717143e-03,\n",
              "        5.75253682e-04, 1.98863517e-03, 5.18720085e-03, 5.87194227e-04,\n",
              "        1.25349662e-03, 1.28903368e-03, 1.14176795e-03, 2.37746653e-03,\n",
              "        1.20420323e-03, 5.31264208e-03, 7.24612502e-04, 1.87332358e-03,\n",
              "        6.52895760e-05, 4.55864938e-04, 3.06207105e-03, 1.04271527e-02,\n",
              "        2.10938230e-03, 1.07724580e-03, 3.09108873e-04, 2.98305508e-03,\n",
              "        8.34838375e-02, 4.33329791e-02, 1.41960080e-03, 4.02602833e-03,\n",
              "        3.41272261e-03, 7.08868203e-04, 6.11764239e-03, 1.29632454e-03,\n",
              "        6.23899163e-04, 6.84863189e-04, 7.47451617e-04, 4.56617650e-04,\n",
              "        4.26040468e-04, 8.91607429e-04, 1.15043600e-03, 8.67908541e-03,\n",
              "        1.76602846e-03, 3.46904919e-02, 1.05193099e-02, 6.01078151e-04,\n",
              "        1.24909999e-02, 3.05483001e-03, 4.58777882e-04, 2.01758929e-03,\n",
              "        1.04550039e-03, 1.02006074e-03, 6.14536519e-04, 8.85913672e-04,\n",
              "        3.72989825e-03, 4.18777054e-04, 3.91642592e-04, 1.80002744e-03,\n",
              "        2.35382002e-03, 1.53888110e-03, 1.49498729e-03, 6.00295607e-04,\n",
              "        4.96873865e-04, 1.65935303e-03, 3.65374610e-04, 6.66994776e-04,\n",
              "        1.04191760e-03, 1.00463023e-03, 2.34679529e-03, 3.76074080e-04,\n",
              "        2.94605125e-04, 6.21730054e-04, 6.73447410e-03, 1.02174899e-03,\n",
              "        8.76883627e-04, 1.85855373e-03, 2.20152899e-03, 4.35546419e-04,\n",
              "        1.09063857e-03, 5.91959432e-03, 1.27287500e-03, 9.39761638e-04,\n",
              "        7.72113213e-04, 1.46422591e-02, 1.67372283e-02, 1.52184989e-03,\n",
              "        1.40398217e-03, 1.55074289e-03, 6.33075717e-04, 3.39667778e-04,\n",
              "        4.22522752e-03, 5.99743740e-04, 1.55058911e-03, 1.13005284e-04,\n",
              "        3.47671041e-04, 9.82723385e-02, 4.61745978e-04, 3.52120539e-03,\n",
              "        1.52695412e-03, 6.95689349e-04, 3.22789623e-04],\n",
              "       [3.81803053e-04, 7.04573374e-03, 1.44978915e-03, 1.04628247e-03,\n",
              "        6.86434854e-04, 1.13433145e-03, 8.04560538e-03, 7.52661657e-03,\n",
              "        1.89423598e-02, 8.14413652e-04, 1.22607895e-03, 1.51838390e-02,\n",
              "        1.82345998e-03, 3.93075403e-04, 5.18744288e-04, 1.85302866e-03,\n",
              "        3.55685130e-04, 9.37951321e-04, 6.38564304e-03, 3.29010678e-03,\n",
              "        1.30319357e-04, 6.55637239e-04, 2.22383789e-03, 1.05434924e-03,\n",
              "        6.74396870e-04, 2.59228586e-03, 2.26989854e-03, 6.06164685e-04,\n",
              "        1.02889794e-03, 3.09391133e-03, 5.29260701e-03, 8.79551284e-03,\n",
              "        4.63511271e-04, 1.09645123e-04, 1.14634779e-04, 4.13952454e-04,\n",
              "        8.96833837e-04, 9.08390284e-05, 3.57324723e-04, 6.93183066e-03,\n",
              "        2.57252576e-03, 9.82948695e-04, 1.88841179e-04, 5.21118869e-04,\n",
              "        9.95392562e-04, 3.24215944e-04, 6.22007647e-04, 8.10458325e-04,\n",
              "        1.54110445e-02, 1.59821205e-03, 7.93085841e-04, 2.47177342e-03,\n",
              "        1.81339141e-02, 1.23839278e-03, 1.59042736e-03, 2.22192472e-03,\n",
              "        8.07082746e-04, 2.01341929e-03, 8.87451135e-03, 9.91255743e-04,\n",
              "        5.33254526e-04, 2.59823818e-03, 2.01918138e-03, 1.35836424e-03,\n",
              "        1.53125182e-03, 6.98595447e-03, 4.02169797e-04, 4.01018327e-03,\n",
              "        1.44485530e-04, 6.08303933e-04, 1.01288885e-03, 6.87465724e-03,\n",
              "        1.02369883e-03, 7.28796760e-04, 4.42327320e-04, 9.78481676e-03,\n",
              "        4.98786103e-03, 2.36094370e-02, 3.75060341e-03, 2.59972294e-03,\n",
              "        2.90205562e-03, 2.38248394e-04, 1.48298396e-02, 1.92648300e-03,\n",
              "        1.48630445e-03, 4.70962288e-04, 3.06905276e-04, 1.97678528e-04,\n",
              "        2.90850701e-04, 1.37169717e-03, 2.18068250e-03, 2.84852460e-03,\n",
              "        1.92772166e-03, 5.35969257e-01, 1.40588386e-02, 3.37162259e-04,\n",
              "        5.42296655e-03, 1.91565824e-03, 2.34238512e-04, 1.05651992e-03,\n",
              "        1.59794989e-03, 3.18193779e-04, 8.88768584e-04, 1.51263748e-03,\n",
              "        2.63709668e-03, 1.09081343e-03, 4.26333776e-04, 2.28895759e-03,\n",
              "        1.63358368e-03, 7.39689684e-04, 2.42312602e-03, 3.64141859e-04,\n",
              "        3.55653057e-04, 2.59369914e-03, 5.47415344e-04, 3.90118570e-04,\n",
              "        9.39131482e-04, 3.73381190e-03, 3.01233097e-03, 5.09047648e-04,\n",
              "        2.16207874e-04, 4.85898578e-04, 7.20232213e-03, 1.17278972e-03,\n",
              "        5.15717082e-04, 2.41726032e-03, 1.51119416e-03, 8.87105882e-04,\n",
              "        5.29363868e-04, 2.45171841e-02, 2.79262755e-03, 5.70899283e-04,\n",
              "        8.90514289e-04, 3.27620953e-02, 1.50111113e-02, 1.20356854e-03,\n",
              "        8.46929732e-04, 3.27576906e-03, 2.74826598e-04, 7.96301523e-04,\n",
              "        1.87998335e-03, 7.91669765e-04, 6.07096707e-04, 1.64831508e-04,\n",
              "        2.65277806e-04, 5.38979098e-03, 3.51318740e-04, 1.76952127e-02,\n",
              "        1.29313522e-03, 5.46932570e-04, 1.53789675e-04]], dtype=float32)"
            ]
          },
          "metadata": {},
          "execution_count": 94
        }
      ]
    },
    {
      "cell_type": "code",
      "source": [
        "print(f\"Label {np.argmax(y_hat[0])} predicted for query {test_text[0]}\")\n",
        "print(f\"Label {np.argmax(y_hat[1])} predicted for query {test_text[1]}\")\n",
        "print(f\"Label {np.argmax(y_hat[2])} predicted for query {test_text[2]}\")"
      ],
      "metadata": {
        "colab": {
          "base_uri": "https://localhost:8080/"
        },
        "id": "ehP0o2a4pEfc",
        "outputId": "8f3bf99d-8b71-4dda-f9ff-bb5ab5fdb572"
      },
      "execution_count": null,
      "outputs": [
        {
          "output_type": "stream",
          "name": "stdout",
          "text": [
            "Label 93 predicted for query Hi! This is sairam from DLCVNLP batch.\n",
            "Label 11 predicted for query Good Morning\n",
            "Label 93 predicted for query sir any sujjestion to overcome this error?\n"
          ]
        }
      ]
    },
    {
      "cell_type": "markdown",
      "source": [
        "6  ==> Greetings <br>\n",
        "93 ==> Need Help <br>\n",
        "8  ==> O <br>\n",
        "76 ==> Good Bye <br>\n",
        "11 ==> Thank you"
      ],
      "metadata": {
        "id": "CTgJ0dnvpJ5j"
      }
    },
    {
      "cell_type": "code",
      "source": [],
      "metadata": {
        "id": "8_hJDtYOpPGD"
      },
      "execution_count": null,
      "outputs": []
    }
  ]
}